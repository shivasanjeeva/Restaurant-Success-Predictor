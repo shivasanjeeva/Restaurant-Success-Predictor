{
 "cells": [
  {
   "cell_type": "markdown",
   "id": "e4f5a781",
   "metadata": {},
   "source": [
    "## Introduction\n",
    "\n",
    "In notebook 1, data has been extracted for our target city (Vancouver, Canada). In notebook 2, Data cleaning, Exploratory Data Analysis and Feature Engineering will be performed on the data filtered and stored from part 1. We will start by importing required libararies and saved .csv files from previous notebook."
   ]
  },
  {
   "cell_type": "markdown",
   "id": "29be14a5",
   "metadata": {},
   "source": [
    "## Importing"
   ]
  },
  {
   "cell_type": "markdown",
   "id": "a55541cd",
   "metadata": {},
   "source": [
    "**Importing Libraries:** The first step is to import the required libraries for this notebook as performed below:"
   ]
  },
  {
   "cell_type": "code",
   "execution_count": null,
   "id": "0279610e",
   "metadata": {},
   "outputs": [],
   "source": []
  },
  {
   "cell_type": "code",
   "execution_count": 1,
   "id": "d02cb1a1",
   "metadata": {},
   "outputs": [
    {
     "ename": "ModuleNotFoundError",
     "evalue": "No module named 'plotly'",
     "output_type": "error",
     "traceback": [
      "\u001b[1;31m---------------------------------------------------------------------------\u001b[0m",
      "\u001b[1;31mModuleNotFoundError\u001b[0m                       Traceback (most recent call last)",
      "\u001b[1;32m~\\AppData\\Local\\Temp/ipykernel_12536/1367736731.py\u001b[0m in \u001b[0;36m<module>\u001b[1;34m\u001b[0m\n\u001b[0;32m      3\u001b[0m \u001b[1;32mimport\u001b[0m \u001b[0mmatplotlib\u001b[0m\u001b[1;33m.\u001b[0m\u001b[0mpyplot\u001b[0m \u001b[1;32mas\u001b[0m \u001b[0mplt\u001b[0m\u001b[1;33m\u001b[0m\u001b[1;33m\u001b[0m\u001b[0m\n\u001b[0;32m      4\u001b[0m \u001b[1;32mimport\u001b[0m \u001b[0mseaborn\u001b[0m \u001b[1;32mas\u001b[0m \u001b[0msns\u001b[0m\u001b[1;33m\u001b[0m\u001b[1;33m\u001b[0m\u001b[0m\n\u001b[1;32m----> 5\u001b[1;33m \u001b[1;32mimport\u001b[0m \u001b[0mplotly\u001b[0m\u001b[1;33m.\u001b[0m\u001b[0mexpress\u001b[0m \u001b[1;32mas\u001b[0m \u001b[0mpx\u001b[0m\u001b[1;33m\u001b[0m\u001b[1;33m\u001b[0m\u001b[0m\n\u001b[0m\u001b[0;32m      6\u001b[0m \u001b[1;33m\u001b[0m\u001b[0m\n\u001b[0;32m      7\u001b[0m \u001b[1;32mimport\u001b[0m \u001b[0mmath\u001b[0m\u001b[1;33m\u001b[0m\u001b[1;33m\u001b[0m\u001b[0m\n",
      "\u001b[1;31mModuleNotFoundError\u001b[0m: No module named 'plotly'"
     ]
    }
   ],
   "source": [
    "import numpy as np\n",
    "import pandas as pd\n",
    "import matplotlib.pyplot as plt\n",
    "import seaborn as sns\n",
    "import plotly.express as px\n",
    "\n",
    "import math\n",
    "import ast\n",
    "import string\n",
    "\n",
    "from collections import Counter\n",
    "\n",
    "import nltk\n",
    "nltk.download('stopwords') # for stopwords like a, I\n",
    "nltk.download('wordnet') # for meaning of words\n",
    "nltk.download('punkt') # for punctuation\n",
    "nltk.download('vader_lexicon') # import the nltk vader lexicon\n",
    "\n",
    "from nltk.corpus import stopwords \n",
    "from nltk.sentiment.vader import SentimentIntensityAnalyzer\n",
    "from nltk.stem import SnowballStemmer\n",
    "\n",
    "\n",
    "# to display all columns\n",
    "pd.set_option(\"display.max_columns\", None)\n",
    "\n",
    "import warnings\n",
    "warnings.filterwarnings('ignore')"
   ]
  },
  {
   "cell_type": "markdown",
   "id": "177d1d0c",
   "metadata": {},
   "source": [
    "**Importing data:** 2 data files were saved in Part 1 which contained filtered data from json files related to restaurants in Vancouver, British Columbia. These files have been imported from the `data` folder."
   ]
  },
  {
   "cell_type": "code",
   "execution_count": null,
   "id": "a49e6af4",
   "metadata": {},
   "outputs": [],
   "source": [
    "# import the files\n",
    "restaurants_df = pd.read_csv(r'data\\vancouver_restaurants.csv')\n",
    "reviews_df = pd.read_csv(r'data\\vancouver_restaurants_reviews.csv')"
   ]
  },
  {
   "cell_type": "markdown",
   "id": "bb8e615a",
   "metadata": {},
   "source": [
    "## Exploring the Dataset"
   ]
  },
  {
   "cell_type": "markdown",
   "id": "c388dede",
   "metadata": {},
   "source": [
    "This step involves looking into the dataset, the structure, missing values and duplicate data. Analyzing the data structure can give valuable insights about the data types which might have to be changed or columns that need to be split or joined for more effective use.\n",
    "\n",
    "To view the data, the head() function will be used."
   ]
  },
  {
   "cell_type": "markdown",
   "id": "0ab57a51",
   "metadata": {},
   "source": [
    "**Restaurants Dataset:**"
   ]
  },
  {
   "cell_type": "code",
   "execution_count": null,
   "id": "bf1e6644",
   "metadata": {},
   "outputs": [],
   "source": [
    "# view the first 2 rows of restaurant data to get an idea about data\n",
    "restaurants_df.head(2)"
   ]
  },
  {
   "cell_type": "markdown",
   "id": "1e241ea2",
   "metadata": {},
   "source": [
    "The next step is to check the completeness of data to see whether it matches with the data extracted in Part 1. "
   ]
  },
  {
   "cell_type": "code",
   "execution_count": null,
   "id": "670c9767",
   "metadata": {},
   "outputs": [],
   "source": [
    "# sanity check\n",
    "# check the shape of data\n",
    "print(f'Number of Restaurants: {restaurants_df.shape[0]: ,}')\n",
    "print(f'Number of features: {restaurants_df.shape[1]: ,}')"
   ]
  },
  {
   "cell_type": "markdown",
   "id": "c16d8960",
   "metadata": {},
   "source": [
    "There are same number of rows and columns as there were in previous notebook. Same check has been performed for reviews data below."
   ]
  },
  {
   "cell_type": "markdown",
   "id": "723678be",
   "metadata": {},
   "source": [
    "**Reviews Dataset:**"
   ]
  },
  {
   "cell_type": "code",
   "execution_count": null,
   "id": "6b7d46ce",
   "metadata": {},
   "outputs": [],
   "source": [
    "# view the few rows of reviews data\n",
    "reviews_df.head(2)"
   ]
  },
  {
   "cell_type": "code",
   "execution_count": null,
   "id": "4c6b5850",
   "metadata": {},
   "outputs": [],
   "source": [
    "# check size of data\n",
    "print(f'Number of Reviews: {reviews_df.shape[0]: ,}')\n",
    "print(f'Number of features: {reviews_df.shape[1]: ,}')"
   ]
  },
  {
   "cell_type": "markdown",
   "id": "dd020ff9",
   "metadata": {},
   "source": [
    "Number of reviews and columns match with our extracted reviews from the dataset. Next step is to look at dataframe structure and data dictionary."
   ]
  },
  {
   "cell_type": "markdown",
   "id": "6cc9de3e",
   "metadata": {},
   "source": [
    "### Dataframe Structure and Dictionary"
   ]
  },
  {
   "cell_type": "markdown",
   "id": "35b89475",
   "metadata": {},
   "source": [
    "To view the structure of dataframe, .info() function will be used to get more insights on the structure of dataframe."
   ]
  },
  {
   "cell_type": "markdown",
   "id": "6a2b5b2e",
   "metadata": {},
   "source": [
    "**Restaurants Dataset Structure:**"
   ]
  },
  {
   "cell_type": "code",
   "execution_count": null,
   "id": "ac027ef8",
   "metadata": {},
   "outputs": [],
   "source": [
    "# structure of the dataframe\n",
    "restaurants_df.info()"
   ]
  },
  {
   "cell_type": "markdown",
   "id": "f4ecc7da",
   "metadata": {},
   "source": [
    "The vancouver_restaurants contains 14 columns and 4,749 rows which are properly indexed from 0 to 4,748. The data types for the columns consist of object, integer and float.\n",
    "\n",
    "**Data Dictionary:**\n",
    "The information that each column provides is taken from __[Yelp Documentation](https://www.yelp.com/dataset/documentation/main)__ here and is given below:\n",
    "- **business_id:** string, 22 character unique string business id\n",
    "- **name:** string, the business's name\n",
    "- **address:** string, the full address of the business\n",
    "- **city:** string, the city\n",
    "- **state:** string, 2 character state code, if applicable\n",
    "- **postal_code:** string, the postal code\n",
    "- **latitude:** float, latitude\n",
    "- **longitude:** float, longitude\n",
    "- **stars:** float, star rating, rounded to half-stars\n",
    "- **review_count:** integer, number of reviews\n",
    "- **is_open:** integer, 0 or 1 for closed or open, respectively\n",
    "- **attributes:** object, business attributes to values. note: some attribute values might be objects\n",
    "- **categories:** an array of strings of business categories\n",
    "- **hours:** an object of key day to value hours, hours are using a 24hr clock"
   ]
  },
  {
   "cell_type": "markdown",
   "id": "cb27fbeb",
   "metadata": {},
   "source": [
    "**Review Dataset Structure:**"
   ]
  },
  {
   "cell_type": "code",
   "execution_count": null,
   "id": "0ab73ecc",
   "metadata": {},
   "outputs": [],
   "source": [
    "# structure of the dataframe\n",
    "reviews_df.info()"
   ]
  },
  {
   "cell_type": "markdown",
   "id": "3d3bf45e",
   "metadata": {},
   "source": [
    "The vancouver_restaurants contains 9 columns and  rows which are properly indexed from 0 to 322,251. The data types for the columns consist of object, integer and float.\n",
    "\n",
    "**Data Dictionary:**\n",
    "The information that each column provides is taken from __[Yelp Documentation](https://www.yelp.com/dataset/documentation/main)__ here and is given below:\n",
    "- **review_id:** string, 22 character unique review id\n",
    "- **user_id:** string, 22 character unique user id\n",
    "- **business_id:** string, 22 character unique string business id, maps to business in business dataset\n",
    "- **stars:** integer, star rating\n",
    "- **date:** string, date formatted YYYY-MM-DD\n",
    "- **text:** string, the review itself\n",
    "- **useful:** integer, number of useful votes received\n",
    "- **funny:** integer, number of funny votes received\n",
    "- **cool:** integer, number of cool votes received\n",
    "\n",
    "The data type for date column is object which has been changed to datetime while cleaning the data."
   ]
  },
  {
   "cell_type": "markdown",
   "id": "81d7b68c",
   "metadata": {},
   "source": [
    "### Cleaning the data"
   ]
  },
  {
   "cell_type": "markdown",
   "id": "5b0025c7",
   "metadata": {},
   "source": [
    "In this step, we will be checking the dataset for null values and duplicate data. We will also impute/remove the missing values. As a last step in cleaning the data, we will remove the columns which are not required for the analysis."
   ]
  },
  {
   "cell_type": "markdown",
   "id": "c539c5c6",
   "metadata": {},
   "source": [
    "#### 1. Restaurants Data\n",
    "\n",
    "**Missing Data:** As a first step in cleaning the data, we will check for any missing/null values in the dataset."
   ]
  },
  {
   "cell_type": "code",
   "execution_count": null,
   "id": "a67a96bb",
   "metadata": {},
   "outputs": [],
   "source": [
    "# checking missing values as number\n",
    "restaurants_df.isna().sum()"
   ]
  },
  {
   "cell_type": "code",
   "execution_count": null,
   "id": "c80eadea",
   "metadata": {},
   "outputs": [],
   "source": [
    "# checking missing values as percentage\n",
    "restaurants_df.isna().sum()/restaurants_df.shape[0]*100"
   ]
  },
  {
   "cell_type": "markdown",
   "id": "e61837e8",
   "metadata": {},
   "source": [
    "We can see missing values in following fields:\n",
    "\n",
    "1. **address:** .5%(23) values are missing from the data. These missing values can be filled by searching the Restaurant name or Geographical coordinates. As the information can be extracted from geographical cordinates, this column is not required in analysis and has been dropped.\n",
    "2. **postal_code:** .2%(9) values are missing from the data. The missing postal codes can be found and filled in the same way as address by geographical coordinates. But, this column is not providing any additional information for the purspose of this project and has been dropped.\n",
    "3. **hours:** 17%(797) of data is missing from this field which is significant. However, it is time consuming to search and may not provide any additional insight. Hence, for this analysis and time constraints this column has been dropped.\n",
    "4. **attributes:** 1.4%(67) This column provides details about business attributes like good for kids, parking, dress-code, price range, ambience etc. The number of restaurants missing this data field is not high but the list of attributes is varying for each restaurant. There could be 2 approaches to this issue:\n",
    "    - rows with missing values can be dropped \n",
    "    - the entire column can be dropped if it is not to be used in the analysis\n",
    "    \n",
    "Since this data field contains vital information, it would be better to remove the rows which have missing data.\n",
    "\n",
    "Concisely, from restaurants_df, columns that will be dropped at this point are:\n",
    "\n",
    "- address\n",
    "- postal_code\n",
    "- hours\n",
    "\n",
    "As our analysis is limited to restaurants in Vancouver, British Columbia, these two columns will be dropped\n",
    "- city\n",
    "- state"
   ]
  },
  {
   "cell_type": "code",
   "execution_count": null,
   "id": "45f0733f",
   "metadata": {},
   "outputs": [],
   "source": [
    "# drop the columns\n",
    "restaurants_df.drop(columns=['address', 'postal_code', 'hours', 'city', 'state'], inplace=True)"
   ]
  },
  {
   "cell_type": "code",
   "execution_count": null,
   "id": "2fe9ee34",
   "metadata": {},
   "outputs": [],
   "source": [
    "# drop the rows with missing data for attributes column\n",
    "restaurants_df.dropna(subset=['attributes'], inplace=True)\n",
    "\n",
    "# drop index\n",
    "restaurants_df = restaurants_df.reset_index(drop=True)"
   ]
  },
  {
   "cell_type": "code",
   "execution_count": null,
   "id": "81224fc2",
   "metadata": {},
   "outputs": [],
   "source": [
    "# sanity check\n",
    "restaurants_df.isna().sum()"
   ]
  },
  {
   "cell_type": "markdown",
   "id": "cb62b42f",
   "metadata": {},
   "source": [
    "The above check is to make sure there are no missing data in dataset now. \n",
    "\n",
    "**Duplicate Data:** Next, the dataset will be checked for duplicate data."
   ]
  },
  {
   "cell_type": "code",
   "execution_count": null,
   "id": "baa4655c",
   "metadata": {},
   "outputs": [],
   "source": [
    "# check for duplicate data\n",
    "restaurants_df.duplicated().sum()"
   ]
  },
  {
   "cell_type": "markdown",
   "id": "7f7032ba",
   "metadata": {},
   "source": [
    "As can be seen from above, there is no duplicate data in the restaurants dataset. Hence, we could move to the next step."
   ]
  },
  {
   "cell_type": "code",
   "execution_count": null,
   "id": "1f5e42cd",
   "metadata": {},
   "outputs": [],
   "source": [
    "# check shape of the data\n",
    "print(f'Number of Restaurants: {restaurants_df.shape[0]}')\n",
    "print(f'Number of Features: {restaurants_df.shape[1]}')"
   ]
  },
  {
   "cell_type": "markdown",
   "id": "304f6e57",
   "metadata": {},
   "source": [
    "#### 2. Reviews Data\n",
    "Next, the reviews dataset will be reviewed for missing and duplicate data.\n",
    "\n",
    "**Missing Data:**"
   ]
  },
  {
   "cell_type": "code",
   "execution_count": null,
   "id": "ccb33b3e",
   "metadata": {},
   "outputs": [],
   "source": [
    "# check for missing values\n",
    "reviews_df.isna().sum()"
   ]
  },
  {
   "cell_type": "markdown",
   "id": "6cc644ff",
   "metadata": {},
   "source": [
    "There are no missing values in the reviews dataset. So we will move to the next step, which is reviewing the dataset for duplicate data.\n",
    "\n",
    "**Duplicate Data:**"
   ]
  },
  {
   "cell_type": "code",
   "execution_count": null,
   "id": "036884ca",
   "metadata": {},
   "outputs": [],
   "source": [
    "# check for duplicate data\n",
    "reviews_df.duplicated().sum()"
   ]
  },
  {
   "cell_type": "markdown",
   "id": "f69a3174",
   "metadata": {},
   "source": [
    "We noted that there are no duplicate rows or missing values in our data. "
   ]
  },
  {
   "cell_type": "markdown",
   "id": "fffed249",
   "metadata": {},
   "source": [
    "With the above two steps, the data seems clean and as a next step, EDA will be performed on original data provided followed by Feature Engineering and EDA on new columns."
   ]
  },
  {
   "cell_type": "markdown",
   "id": "93706b81",
   "metadata": {},
   "source": [
    "## Exploratory Data Analysis"
   ]
  },
  {
   "cell_type": "markdown",
   "id": "50dc56a5",
   "metadata": {},
   "source": [
    "To understand the data better, EDA will be performed. Target variable for our analysis is **'is_open'** which has two values, '0' and '1' where '0' represents closed restaurants and '1' represents open restaurants.\n",
    "\n",
    "We have used graphical visualisations to understand any trends, significant fields, any outliers or anomalies, and relationship of various features with our target variable."
   ]
  },
  {
   "cell_type": "markdown",
   "id": "ad984ce9",
   "metadata": {},
   "source": [
    "**1. is_open:** First step is to look at distribution of our target variable for any class imbalance."
   ]
  },
  {
   "cell_type": "code",
   "execution_count": null,
   "id": "fbe13791",
   "metadata": {},
   "outputs": [],
   "source": [
    "# check open and closed restaurants\n",
    "restaurants_df['is_open'].value_counts()/restaurants_df.shape[0]"
   ]
  },
  {
   "cell_type": "code",
   "execution_count": null,
   "id": "07344e2d",
   "metadata": {},
   "outputs": [],
   "source": [
    "# plot the graph for open and closed classes\n",
    "plt.style.use('ggplot')\n",
    "plt.figure(figsize=(20,6))\n",
    "(restaurants_df['is_open'].value_counts()/restaurants_df.shape[0]).plot(kind='bar', color='cornflowerblue')\n",
    "plt.xlabel('Open or Closed', size=14)\n",
    "plt.ylabel('Percentage of Restaurants', size=14)\n",
    "plt.title('Distribution of Open & Closed Restaurants', size=16)\n",
    "plt.xticks(rotation=0, size=12)\n",
    "plt.yticks(size=12)\n",
    "sns.despine()\n",
    "plt.show()"
   ]
  },
  {
   "cell_type": "markdown",
   "id": "a021ee07",
   "metadata": {},
   "source": [
    "The above visualization shows a slight imbalance with 59% Open Restaurants and 41% Closed Restaurants but nothing major to have any intervention."
   ]
  },
  {
   "cell_type": "markdown",
   "id": "42a82fd1",
   "metadata": {},
   "source": [
    "**2. `name`:** values in this field will be looked at next:"
   ]
  },
  {
   "cell_type": "code",
   "execution_count": null,
   "id": "83a062ee",
   "metadata": {},
   "outputs": [],
   "source": [
    "# check the values in name field\n",
    "restaurants_df['name'].value_counts()"
   ]
  },
  {
   "cell_type": "markdown",
   "id": "54af4e2c",
   "metadata": {},
   "source": [
    "The above counts shows some particular restaurant names being repeated multiple times and all of these are restaurants chains, e.g. McDonald's, Tim Hortons, Subway etc. which generally have many outlets in a single city. To pull out the information from this field, feature `is_chain` will be created for which value '1' will represent restaurant is a part of chain and for that restaurant's name will be checked. If it's being repeated more than once in the data, it will be considered as a chain restaurant."
   ]
  },
  {
   "cell_type": "code",
   "execution_count": null,
   "id": "e5a0c6a6",
   "metadata": {},
   "outputs": [],
   "source": [
    "# get the counts of all restaurant name in a dataframe\n",
    "chain_df = restaurants_df['name'].value_counts().to_frame().rename(columns = {'name':'count'})\n",
    "\n",
    "# view the dataframe\n",
    "chain_df.head()"
   ]
  },
  {
   "cell_type": "code",
   "execution_count": null,
   "id": "49102f76",
   "metadata": {},
   "outputs": [],
   "source": [
    "# get the list of restaurants whose count is greater than 1\n",
    "chain_list = list(chain_df[chain_df['count'] > 1].index)\n",
    "len(chain_list)"
   ]
  },
  {
   "cell_type": "code",
   "execution_count": null,
   "id": "f52a68f7",
   "metadata": {},
   "outputs": [],
   "source": [
    "# total chain restaurants\n",
    "chain_df[chain_df['count'] > 1].sum()"
   ]
  },
  {
   "cell_type": "markdown",
   "id": "21c2f60d",
   "metadata": {},
   "source": [
    "There are 956 restaurants that are a part of 282 restaurant chains within Vancouver. So, this column will be added to the dataset and  `name` column will be dropped."
   ]
  },
  {
   "cell_type": "code",
   "execution_count": null,
   "id": "24382f51",
   "metadata": {},
   "outputs": [],
   "source": [
    "restaurants_df['is_chain'] = restaurants_df['name'].apply(lambda x: 1 if (x in chain_list) else 0)\n",
    "\n",
    "# sanity check\n",
    "print('Number of chain restaurants: ', restaurants_df['is_chain'].sum())"
   ]
  },
  {
   "cell_type": "markdown",
   "id": "0eaa70f8",
   "metadata": {},
   "source": [
    "This number matches with the initial calculation. Next, name column will be dropped and 'is_chain' column will be analyzed."
   ]
  },
  {
   "cell_type": "code",
   "execution_count": null,
   "id": "8b217e74",
   "metadata": {},
   "outputs": [],
   "source": [
    "# drop the name field\n",
    "restaurants_df.drop(columns=['name'], inplace=True)"
   ]
  },
  {
   "cell_type": "code",
   "execution_count": null,
   "id": "295ba548",
   "metadata": {},
   "outputs": [],
   "source": [
    "# chain restaurants open/closed\n",
    "restaurants_df[restaurants_df['is_chain']==1]['is_open'].value_counts().sort_index(ascending=True)/restaurants_df[restaurants_df['is_chain']==1].shape[0]"
   ]
  },
  {
   "cell_type": "code",
   "execution_count": null,
   "id": "96dbe571",
   "metadata": {},
   "outputs": [],
   "source": [
    "# for non-chain restaurants open/closed\n",
    "restaurants_df[restaurants_df['is_chain']==0]['is_open'].value_counts().sort_index(ascending=True)/restaurants_df[restaurants_df['is_chain']==0].shape[0]"
   ]
  },
  {
   "cell_type": "code",
   "execution_count": null,
   "id": "7629eadb",
   "metadata": {},
   "outputs": [],
   "source": [
    "# plot distribution of chain and non-chain Restaurants\n",
    "plt.style.use('ggplot')\n",
    "n = 2\n",
    "fig, ax = plt.subplots(figsize=(20,6))\n",
    "index = np.arange(n)\n",
    "bar_width = 0.35\n",
    "opacity = 0.9\n",
    "ax.bar(index, restaurants_df[restaurants_df['is_chain']==1]['is_open'].value_counts().sort_index(ascending=True)/restaurants_df[restaurants_df['is_chain']==1].shape[0],\\\n",
    "       bar_width, alpha=opacity, color='cornflowerblue', label='Chain')\n",
    "ax.bar(index+bar_width, restaurants_df[restaurants_df['is_chain']==0]['is_open'].value_counts().sort_index(ascending=True)/restaurants_df[restaurants_df['is_chain']==0].shape[0],\\\n",
    "       bar_width, alpha=opacity, color='orange', label='No Chain')\n",
    "ax.set_xlabel('Closed and Open Restaurants', size=14)\n",
    "ax.set_ylabel('Percentage of Restaurants', size=14)\n",
    "ax.set_title('Chain Restaurant Distribution', size=16)\n",
    "ax.set_xticks(index + bar_width / 2)\n",
    "ax.set_xticklabels(('Closed', 'Open'))\n",
    "ax.legend()\n",
    "plt.show()"
   ]
  },
  {
   "cell_type": "markdown",
   "id": "bf61a0dd",
   "metadata": {},
   "source": [
    "Looking at the graph above, chain restaurants do not close that often and it's better to invest in them as their chances of closing are less compared to non-chain restaurants. Out of the total chain restaurants, 28% were closed and out of total non-chain restaurants 45% were closed."
   ]
  },
  {
   "cell_type": "markdown",
   "id": "4fb854c7",
   "metadata": {},
   "source": [
    "**3. Latitude & Longitude:**\n",
    "\n",
    "For Geographical location trends, we will plot the open and closed restaurants using plotly. We will use 'is_open' as value for color, it's a binary field, therefore color will have 2 extreme values on the scale. For size of the dots, I have used review_count that determines the popularity of a restaurant(good/bad)."
   ]
  },
  {
   "cell_type": "code",
   "execution_count": null,
   "id": "1c22390d",
   "metadata": {},
   "outputs": [],
   "source": [
    "#plot the geographical coordinates of restaurants\n",
    "fig = px.scatter_mapbox(restaurants_df, lat='latitude', lon='longitude', color='is_open', size='review_count',\\\n",
    "                        size_max=15, zoom=12)\n",
    "fig.update_layout(mapbox_style=\"carto-positron\")\n",
    "fig.show()"
   ]
  },
  {
   "cell_type": "markdown",
   "id": "3dec9a49",
   "metadata": {},
   "source": [
    "Looking at the geographical visualization of restaurants in the city of Vancouver, most of the restaurant businesses were concentrated in Downtown Vancouver, which is the central business district. There is no clear trend based on the geographic cordinates but looking at the size of dots which represents review count, most of the closed restaurants have received fewer review counts as compared to the restaurants in their vicinity.\n",
    "\n",
    "**4. stars:** Next, distribution of stars for both closed and open restaurants will be analyzed."
   ]
  },
  {
   "cell_type": "code",
   "execution_count": null,
   "id": "c9824fb6",
   "metadata": {},
   "outputs": [],
   "source": [
    "# plot distribution of stars in Open and Closed Restaurants\n",
    "plt.style.use('ggplot')\n",
    "n = 9\n",
    "fig, ax = plt.subplots(figsize=(20,6))\n",
    "index = np.arange(n)\n",
    "bar_width = 0.35\n",
    "opacity = 0.9\n",
    "ax.bar(index, restaurants_df[restaurants_df['is_open']==1]['stars'].value_counts().sort_index(ascending=True),\\\n",
    "       bar_width, alpha=opacity, color='cornflowerblue', label='Open')\n",
    "ax.bar(index+bar_width, restaurants_df[restaurants_df['is_open']==0]['stars'].value_counts().sort_index(ascending=True),\\\n",
    "       bar_width, alpha=opacity, color='orange', label='Closed')\n",
    "ax.set_xlabel('Stars', size=14)\n",
    "ax.set_ylabel('Number of Restaurants', size=14)\n",
    "ax.set_title('Distribution of Stars for Open & Closed Restaurants', size=16)\n",
    "ax.set_xticks(index + bar_width / 2)\n",
    "ax.set_xticklabels(('1', '1.5', '2.0', '2.5', '3.0', '3.5', '4.0', '4.5', '5.0'))\n",
    "ax.legend()\n",
    "plt.show()"
   ]
  },
  {
   "cell_type": "code",
   "execution_count": null,
   "id": "fef4e3b6",
   "metadata": {},
   "outputs": [],
   "source": [
    "plt.subplots(1,2, figsize=(20,2))\n",
    "\n",
    "plt.subplot(1,2,1)\n",
    "sns.boxplot(x=restaurants_df[restaurants_df['is_open']==1]['stars'], color='cornflowerblue')\n",
    "plt.title('Plot showing interquartile range for stars in Open Class')\n",
    "\n",
    "plt.subplot(1,2,2)\n",
    "sns.boxplot(x=restaurants_df[restaurants_df['is_open']==0]['stars'], color='orange')\n",
    "plt.title('Plot showing interquartile range for stars in Closed Class')\n",
    "\n",
    "plt.show()"
   ]
  },
  {
   "cell_type": "markdown",
   "id": "3ab1158e",
   "metadata": {},
   "source": [
    "There is no clear trend based on stars given to a restaurant. Both open and closed restaurants have higher numbers between 3 and 4. It will be interesting to compare the restaurants stars with the ones in their vicinity to better analyze their performance based on stars and whether this field helps in predicting the success of a restaurant.\n",
    "\n",
    "**5. review_count:** For 'review_count' column, .describe() function will be used to analyze the various summary statistics. These statistics can give a holistic view of data in a column."
   ]
  },
  {
   "cell_type": "code",
   "execution_count": null,
   "id": "38005e42",
   "metadata": {},
   "outputs": [],
   "source": [
    "# check statistics for review_count\n",
    "restaurants_df.groupby('is_open')['review_count'].describe()"
   ]
  },
  {
   "cell_type": "markdown",
   "id": "c6ecb8d4",
   "metadata": {},
   "source": [
    "By looking at these values above, we can clearly see review_count has low value for closed restaurants as compared to the open restaurants. Average number of reviews received by closed restaurants are 39 and for open restaurants it is 84 which is expected as their age might be less than open restaurants. This could also be due to the reason that users might have found these restaurants delivering usual experience as reviews are generally posted by customers who are either extremely satisfied or dissatisfied."
   ]
  },
  {
   "cell_type": "markdown",
   "id": "7df75b15",
   "metadata": {},
   "source": [
    "**6. attributes:** Next, values for `attributes` will be analyzed."
   ]
  },
  {
   "cell_type": "code",
   "execution_count": null,
   "id": "65f10e78",
   "metadata": {},
   "outputs": [],
   "source": [
    "# view the attributes field\n",
    "restaurants_df['attributes']"
   ]
  },
  {
   "cell_type": "markdown",
   "id": "70282321",
   "metadata": {},
   "source": [
    "There are different variations of dictionary with different attributes listed for each restaurant. Next, we will find the list of attributes that are listed and some of them can be used to make new features.\n",
    "\n",
    "In next step, attributes dictionary will be made to get the list of all attributes and count of restaurants for which these attributes are listed."
   ]
  },
  {
   "cell_type": "code",
   "execution_count": null,
   "id": "712be638",
   "metadata": {},
   "outputs": [],
   "source": [
    "type(restaurants_df['attributes'][0])"
   ]
  },
  {
   "cell_type": "code",
   "execution_count": null,
   "id": "d887377a",
   "metadata": {},
   "outputs": [],
   "source": [
    "# converting string to dictionary\n",
    "restaurants_df['attributes'] = restaurants_df['attributes'].apply(lambda x:ast.literal_eval(x))"
   ]
  },
  {
   "cell_type": "code",
   "execution_count": null,
   "id": "ce7348c2",
   "metadata": {},
   "outputs": [],
   "source": [
    "# attributes dictionary to get \n",
    "attributes_dict = {}\n",
    "\n",
    "for i, restaurant in restaurants_df.iterrows():\n",
    "    # to exclude NaN values for string\n",
    "    if restaurant['attributes'] == restaurant['attributes']:\n",
    "        \n",
    "        res_attr = restaurant['attributes']\n",
    "        \n",
    "        # loop through each attribute listed for the restaurant\n",
    "        for attribute in res_attr:\n",
    "            # add index to attribute if it's given for a restaurant\n",
    "            try:\n",
    "                attributes_dict[attribute] += [i]\n",
    "            except:\n",
    "                attributes_dict[attribute] = [i] \n",
    "\n",
    "# dictionary to dataframe\n",
    "key_df = pd.DataFrame(columns=['Attribute', 'Count'])\n",
    "i=0\n",
    "for key in attributes_dict.keys():\n",
    "    key_df.loc[i,'Attribute'] = key\n",
    "    key_df.loc[i,'Count'] = len(attributes_dict[key])\n",
    "    i+=1\n",
    "\n",
    "# display attributes list with count of rows\n",
    "key_df.sort_values(by='Count', ascending=False)"
   ]
  },
  {
   "cell_type": "markdown",
   "id": "527f1c6e",
   "metadata": {},
   "source": [
    "We see that there are differnt combinations of 35 attributes and for some attributes there are subsets like 'Ambience', 'BusinessParking', 'GoodForMeal' have a dictionary for its value. We also see, some attributes are more common than others. Also, for missing attributes, we can not make a conclusion that restaurant is missing that attribute. for example, if a business has no 'RestaurantsGoodForGroups' attribute, it could not be concluded that this business is not good for groups, but only that we have no information on this attribute. Therefore, if we wish to compare businesses and include all attributes in the comparison, we will always lose significant parts of the data. But we can check for few most common attributes, like, 'RestaurantsTakeOut', 'RestaurantsDelivery', 'OutdoorSeating', 'RestaurantsPriceRange2' and 'RestaurantsReservations', 'RestaurantsGoodForGroups' and 'GoodForKids' in predicting the closure of a restaurant. Most of these attributes have binary value 'True' or 'False'. For price, which has numbers as value, missing values can be imputed with mode value.\n",
    "\n",
    "Total number of attributes shared by restaurant will also be extracted to analyze if it has any impact on the target variable.\n",
    "\n",
    "List of the selected attributes will be made and then all restaurants will be checked if they have that attribute to assign it's value to the new attribute column."
   ]
  },
  {
   "cell_type": "code",
   "execution_count": null,
   "id": "88cbaf60",
   "metadata": {},
   "outputs": [],
   "source": [
    "# list of selected attributes\n",
    "attributes_list = ['RestaurantsTakeOut', 'RestaurantsDelivery', 'OutdoorSeating', 'RestaurantsPriceRange2',\\\n",
    "                    'RestaurantsReservations', 'RestaurantsGoodForGroups', 'GoodForKids']\n",
    "\n",
    "# loop through all restaurants, \n",
    "for i, restaurant in restaurants_df.iterrows():\n",
    "    \n",
    "    # check for NaN values, in case NaN it will always be false\n",
    "    if restaurant['attributes'] == restaurant['attributes']:\n",
    "        \n",
    "        restaurant_attr = restaurants_df.loc[i, 'attributes']\n",
    "        \n",
    "        # loop through attributes list\n",
    "        for attribute in attributes_list:\n",
    "            \n",
    "            # check if attribute is mentioned for the current restaurant\n",
    "            if attribute in restaurant_attr.keys():\n",
    "                \n",
    "                # assign the value for the restaurant in attribute column\n",
    "                restaurants_df.loc[i, attribute] = restaurant_attr[attribute]\n",
    "                \n",
    "        # assign total number of attributes for this restaurant\n",
    "        restaurants_df.loc[i, 'Num_of_attributes_shared'] = len(restaurant_attr.keys())\n",
    "        \n",
    "# view the dataset\n",
    "restaurants_df.head(2)"
   ]
  },
  {
   "cell_type": "code",
   "execution_count": null,
   "id": "c57386b9",
   "metadata": {},
   "outputs": [],
   "source": [
    "# check the attributes\n",
    "restaurants_df['RestaurantsTakeOut'].value_counts()"
   ]
  },
  {
   "cell_type": "markdown",
   "id": "14052ddf",
   "metadata": {},
   "source": [
    "We noted that there is 'None' value for 25 rows which does not add any value. Next, all none values will be replaced by NaN to make it easier to impute or remove the values."
   ]
  },
  {
   "cell_type": "code",
   "execution_count": null,
   "id": "7bc93d18",
   "metadata": {},
   "outputs": [],
   "source": [
    "# replace None with nan values\n",
    "restaurants_df.replace('None', np.NaN, inplace=True)"
   ]
  },
  {
   "cell_type": "markdown",
   "id": "e9d7ee4f",
   "metadata": {},
   "source": [
    "All these boolean columns will be converted to `attribute_True` or `attribute_False`. We could also use One hot encoder and remove the unknown or NaN column but since I was not able to change column name and there will be multiple True/False columns, I have used a for loop for this."
   ]
  },
  {
   "cell_type": "code",
   "execution_count": null,
   "id": "17e7ab57",
   "metadata": {},
   "outputs": [],
   "source": [
    "# boolean attributes list\n",
    "att_list = ['RestaurantsTakeOut', 'RestaurantsDelivery', 'OutdoorSeating', 'RestaurantsReservations',\\\n",
    "            'RestaurantsGoodForGroups', 'GoodForKids']\n",
    "\n",
    "# convert to binary column\n",
    "for att in att_list:\n",
    "    restaurants_df[f'{att}_True'] = restaurants_df[att].apply(lambda x: 1 if x=='True' else 0)\n",
    "    restaurants_df[f'{att}_False'] = restaurants_df[att].apply(lambda x: 1 if x=='False' else 0)"
   ]
  },
  {
   "cell_type": "code",
   "execution_count": null,
   "id": "3a608412",
   "metadata": {},
   "outputs": [],
   "source": [
    "# view the dataset\n",
    "restaurants_df.head(2)"
   ]
  },
  {
   "cell_type": "code",
   "execution_count": null,
   "id": "3e2ac4f1",
   "metadata": {},
   "outputs": [],
   "source": [
    "# drop the columns\n",
    "restaurants_df.drop(columns=['attributes', 'RestaurantsTakeOut', 'RestaurantsDelivery', 'OutdoorSeating',\\\n",
    "                             'RestaurantsReservations', 'RestaurantsGoodForGroups', 'GoodForKids'], inplace=True)\n",
    "\n",
    "# view the dataset\n",
    "restaurants_df.head(2)"
   ]
  },
  {
   "cell_type": "markdown",
   "id": "32d78465",
   "metadata": {},
   "source": [
    "Subsequently, price column will be checked for its completeness."
   ]
  },
  {
   "cell_type": "code",
   "execution_count": null,
   "id": "490a8ba7",
   "metadata": {},
   "outputs": [],
   "source": [
    "# check values in the column\n",
    "restaurants_df['RestaurantsPriceRange2'].value_counts()"
   ]
  },
  {
   "cell_type": "code",
   "execution_count": null,
   "id": "b53187f6",
   "metadata": {},
   "outputs": [],
   "source": [
    "# check for the missing values\n",
    "restaurants_df['RestaurantsPriceRange2'].isna().sum()"
   ]
  },
  {
   "cell_type": "markdown",
   "id": "264cfec2",
   "metadata": {},
   "source": [
    "There are 561 missing values. These NaN values will be filled with mode value for these restaurants."
   ]
  },
  {
   "cell_type": "code",
   "execution_count": null,
   "id": "dc59c0e3",
   "metadata": {},
   "outputs": [],
   "source": [
    "# fill missing values with mode values\n",
    "restaurants_df['RestaurantsPriceRange2'] = restaurants_df['RestaurantsPriceRange2'].\\\n",
    "                                            fillna(restaurants_df['RestaurantsPriceRange2'].mode()[0])"
   ]
  },
  {
   "cell_type": "code",
   "execution_count": null,
   "id": "9a6d5125",
   "metadata": {},
   "outputs": [],
   "source": [
    "# change data type to integer for price \n",
    "restaurants_df['RestaurantsPriceRange2'] = restaurants_df['RestaurantsPriceRange2'].astype('int')"
   ]
  },
  {
   "cell_type": "code",
   "execution_count": null,
   "id": "f4c03adf",
   "metadata": {},
   "outputs": [],
   "source": [
    "# change data type from float to int as integer values are there\n",
    "restaurants_df['Num_of_attributes_shared'] = restaurants_df['Num_of_attributes_shared'].astype('int')"
   ]
  },
  {
   "cell_type": "code",
   "execution_count": null,
   "id": "45d2b346",
   "metadata": {},
   "outputs": [],
   "source": [
    "# view restaurants dataset\n",
    "restaurants_df.head(2)"
   ]
  },
  {
   "cell_type": "code",
   "execution_count": null,
   "id": "446d3f34",
   "metadata": {},
   "outputs": [],
   "source": [
    "# plot distribution of price in Open and Closed Restaurants\n",
    "plt.style.use('ggplot')\n",
    "n = 4\n",
    "fig, ax = plt.subplots(figsize=(20,6))\n",
    "index = np.arange(n)\n",
    "bar_width = 0.35\n",
    "opacity = 0.9\n",
    "ax.bar(index, restaurants_df[restaurants_df['is_open']==1]['RestaurantsPriceRange2'].value_counts().sort_index(ascending=True),\\\n",
    "       bar_width, alpha=opacity, color='cornflowerblue', label='Open')\n",
    "ax.bar(index+bar_width, restaurants_df[restaurants_df['is_open']==0]['RestaurantsPriceRange2'].value_counts().sort_index(ascending=True),\\\n",
    "       bar_width, alpha=opacity, color='orange', label='Closed')\n",
    "ax.set_xlabel('Price', size=14)\n",
    "ax.set_ylabel('Number of Restaurants', size=14)\n",
    "ax.set_title('Distribution of Price for Open & Closed Restaurants', size=16)\n",
    "ax.set_xticks(index + bar_width / 2)\n",
    "ax.set_xticklabels(('1', '2.0', '3.0', '4.0'))\n",
    "ax.legend()\n",
    "plt.show()"
   ]
  },
  {
   "cell_type": "code",
   "execution_count": null,
   "id": "f386499d",
   "metadata": {},
   "outputs": [],
   "source": [
    "#plot the geographical coordinates of restaurants\n",
    "fig = px.scatter_mapbox(restaurants_df, lat='latitude', lon='longitude', color='RestaurantsPriceRange2', size='is_open',\\\n",
    "                        size_max=5, zoom=12)\n",
    "fig.update_layout(mapbox_style=\"carto-positron\")\n",
    "fig.show()"
   ]
  },
  {
   "cell_type": "markdown",
   "id": "be550dee",
   "metadata": {},
   "source": [
    "The bar chart above represents that most of the restaurants (open or closed) fall in the price range 1 and 2. There seems to be more chances of a restaurant getting closed if it's price range falls under 3 followed by 1 and 2. This relation could not be determined for restaurants falling in price range 4 as the data available for these is very limited. "
   ]
  },
  {
   "cell_type": "markdown",
   "id": "15fb9252",
   "metadata": {},
   "source": [
    "**7. categories:** Data in categories field will be looked into next."
   ]
  },
  {
   "cell_type": "code",
   "execution_count": null,
   "id": "be276783",
   "metadata": {},
   "outputs": [],
   "source": [
    "# check the values\n",
    "restaurants_df['categories']"
   ]
  },
  {
   "cell_type": "markdown",
   "id": "a1928972",
   "metadata": {},
   "source": [
    "It will be interesting to also look at  the unique categories in the data. So, we will extract the unique categories for all the restaurants."
   ]
  },
  {
   "cell_type": "code",
   "execution_count": null,
   "id": "e90baaac",
   "metadata": {},
   "outputs": [],
   "source": [
    "# check the data field\n",
    "restaurants_df['categories'][0]"
   ]
  },
  {
   "cell_type": "markdown",
   "id": "f45a9380",
   "metadata": {},
   "source": [
    "Values are list in a string, therefore, we will split the data and create unique category list"
   ]
  },
  {
   "cell_type": "code",
   "execution_count": null,
   "id": "db9c2cef",
   "metadata": {},
   "outputs": [],
   "source": [
    "# unique categories\n",
    "unique_categories_list = restaurants_df['categories'].str.split(', ', expand=True).stack().unique().tolist()\n",
    "\n",
    "# unique categories with count\n",
    "unique_categories_count = restaurants_df['categories'].str.split(', ', expand=True).stack().value_counts()\n",
    "\n",
    "# length of list\n",
    "print(f'Number of unique categories: {len(unique_categories_list)}')\n",
    "\n",
    "# display count of top 25 unique categories\n",
    "unique_categories_count.head(25)"
   ]
  },
  {
   "cell_type": "markdown",
   "id": "4314c14e",
   "metadata": {},
   "source": [
    "There are 361 unique categories for the restaurants. Restaurants and Food as most common category mentioned. We can exclude these two categories and use others to see if theirs any relation between the restaurant's category and being closed/ open. We can add top 25 categories for this. We will also count similar restaurants within 1 km radius and analyze it's impact on the restaurant's success. So, we will drop this feature in feature engineering section."
   ]
  },
  {
   "cell_type": "code",
   "execution_count": null,
   "id": "3a784c26",
   "metadata": {},
   "outputs": [],
   "source": [
    "# get the top 25 categories after removing restaurants and food\n",
    "category_list = unique_categories_count.head(27).index[2:]\n",
    "\n",
    "# add a column for each category\n",
    "for category in category_list:\n",
    "    restaurants_df[category] = restaurants_df['categories'].apply(lambda x: 1 if (f'{category}' in x) else 0)"
   ]
  },
  {
   "cell_type": "markdown",
   "id": "b0e3364e",
   "metadata": {},
   "source": [
    "Next check for some values to confirm that the function worked."
   ]
  },
  {
   "cell_type": "code",
   "execution_count": null,
   "id": "cc60dce8",
   "metadata": {},
   "outputs": [],
   "source": [
    "# sanity check\n",
    "print('Japanese: ', restaurants_df['Japanese'].sum())\n",
    "print('Nightlife: ', restaurants_df['Nightlife'].sum())"
   ]
  },
  {
   "cell_type": "markdown",
   "id": "e18e96b8",
   "metadata": {},
   "source": [
    "We see these values match with number of values in the 'category' table above."
   ]
  },
  {
   "cell_type": "code",
   "execution_count": null,
   "id": "031b7319",
   "metadata": {},
   "outputs": [],
   "source": [
    "# plotting the distribution\n",
    "plt.subplots(5,5, figsize=(20,20))\n",
    "for i in range(len(category_list)):\n",
    "    plt.subplot(5,5, i+1)\n",
    "    restaurants_df[restaurants_df[category_list[i]]==1]['is_open'].value_counts().plot(kind='bar', color='cornflowerblue')\n",
    "    plt.title(f'{category_list[i]} Distribution')\n",
    "    plt.xlabel('Open or Closed')\n",
    "    plt.ylabel('Count')\n",
    "    plt.xticks(rotation=0)\n",
    "plt.tight_layout()\n",
    "plt.show()"
   ]
  },
  {
   "cell_type": "markdown",
   "id": "a43d87be",
   "metadata": {},
   "source": [
    "Looking at the distribution above, there are higher chances of restaurant being closed if it belongs to the category Canadian (New), Chinese, American New and/or Mediterranean. The likelihood of a restauarant to last longer are high if it's in Fast Food, Pizza, Burgers or Coffee and Tea category.\n",
    "\n",
    "Next ,the reviews dataset will be analyzed for 'user stars', 'reactions' and 'date' field."
   ]
  },
  {
   "cell_type": "markdown",
   "id": "0359d94f",
   "metadata": {},
   "source": [
    "**1. user_stars:**"
   ]
  },
  {
   "cell_type": "code",
   "execution_count": null,
   "id": "c663fba6",
   "metadata": {},
   "outputs": [],
   "source": [
    "plt.figure(figsize=(20,6))\n",
    "reviews_df['stars'].value_counts().sort_index(ascending=True).plot(kind='bar', color='cornflowerblue')\n",
    "plt.xlabel('User stars', size= 14)\n",
    "plt.ylabel('Count', size=14)\n",
    "plt.title('User Stars Distribution', size=16)\n",
    "plt.xticks(rotation=0, size=12)\n",
    "plt.yticks(size=12)\n",
    "plt.show()"
   ]
  },
  {
   "cell_type": "markdown",
   "id": "1d35b2a0",
   "metadata": {},
   "source": [
    "Most of the users have given a positive rating to the experience. It will be interesting to see the trend in closed and open restaurants. Next, we will merge the data to see any trend difference between the two classes."
   ]
  },
  {
   "cell_type": "code",
   "execution_count": null,
   "id": "bfbcf227",
   "metadata": {},
   "outputs": [],
   "source": [
    "# merging the data\n",
    "merged_df = pd.merge(left=restaurants_df, right=reviews_df, how='inner', left_on='business_id', right_on='business_id')\n",
    "\n",
    "#view the merged data\n",
    "merged_df.head(2)"
   ]
  },
  {
   "cell_type": "markdown",
   "id": "5b2f7275",
   "metadata": {},
   "source": [
    "Next, we will plot the stars given by users for closed aand open restaurants."
   ]
  },
  {
   "cell_type": "code",
   "execution_count": null,
   "id": "df551e7c",
   "metadata": {},
   "outputs": [],
   "source": [
    "# plot distribution of stars in Open and Closed Restaurants\n",
    "plt.style.use('ggplot')\n",
    "n = 5\n",
    "fig, ax = plt.subplots(figsize=(20,6))\n",
    "index = np.arange(n)\n",
    "bar_width = 0.35\n",
    "opacity = 0.9\n",
    "ax.bar(index, merged_df[merged_df['is_open']==1]['stars_y'].value_counts().sort_index(ascending=True),\\\n",
    "       bar_width, alpha=opacity, color='cornflowerblue', label='Open')\n",
    "ax.bar(index+bar_width, merged_df[merged_df['is_open']==0]['stars_y'].value_counts().sort_index(ascending=True),\\\n",
    "       bar_width, alpha=opacity, color='orange', label='Closed')\n",
    "ax.set_xlabel('Stars', size=14)\n",
    "ax.set_ylabel('Number of reviews', size=14)\n",
    "ax.set_title('Distribution of Stars for Open & Closed Restaurants', size=16)\n",
    "ax.set_xticks(index + bar_width / 2)\n",
    "ax.set_xticklabels(('1.0', '2.0', '3.0', '4.0', '5.0'))\n",
    "ax.legend()\n",
    "plt.show()"
   ]
  },
  {
   "cell_type": "markdown",
   "id": "d5508662",
   "metadata": {},
   "source": [
    "From ratings given by users, there is no clear trend that can be deduced and both the classes follow the same pattern. Next, reactions will be analyzed for open and closed restaurants."
   ]
  },
  {
   "cell_type": "markdown",
   "id": "fcdfbcf3",
   "metadata": {},
   "source": [
    "**2. Reactions(useful, funny and cool):**"
   ]
  },
  {
   "cell_type": "code",
   "execution_count": null,
   "id": "f5bcb8b1",
   "metadata": {},
   "outputs": [],
   "source": [
    "merged_df.groupby('is_open')[['useful', 'funny', 'cool']].describe().T"
   ]
  },
  {
   "cell_type": "markdown",
   "id": "faac4e73",
   "metadata": {},
   "source": [
    "Loooking at above statistics, closed restaurants have higher mean reactions in all 3 categories - useful, funny and cool. Most of the users don't react to reviews which is very clear from the low values in all 3 reactions."
   ]
  },
  {
   "cell_type": "markdown",
   "id": "c64f3d3a",
   "metadata": {},
   "source": [
    "**3. text:** We will now look for most commonly used words in negative reviews and see if we can find the most recurring words to see if there is any difference between closed and open restaurants."
   ]
  },
  {
   "cell_type": "code",
   "execution_count": null,
   "id": "4e636d4c",
   "metadata": {},
   "outputs": [],
   "source": [
    "# text data for open restaurants for stars 1, 2\n",
    "open_reviews = merged_df[(merged_df['is_open']==1) & (merged_df['stars_y']<=2)]['text']\n",
    "\n",
    "# combining all the reviews for open restaurants\n",
    "open_text = \" \".join(review for review in open_reviews)\n",
    "print (\"There are {} words in the combination of open restaurant reviews.\".format(len(open_text)))\n",
    "\n",
    "# text data for open restaurants for stars 1, 2\n",
    "closed_reviews = merged_df[(merged_df['is_open']==0) & (merged_df['stars_y']<=2)]['text']\n",
    "\n",
    "# combining all the reviews for closed restaurants\n",
    "close_text = \" \".join(review for review in closed_reviews)\n",
    "print (\"There are {} words in the combination of closed restaurant reviews.\".format(len(close_text)))"
   ]
  },
  {
   "cell_type": "markdown",
   "id": "281c07f9",
   "metadata": {},
   "source": [
    "Currently text data is a single string. To look at the individual words, we will break it into tokens using CountVectorizer which will help in removing whitespaces, punctuations and stopwords. Stopwords do not add to the sentiment therefore we will remove them."
   ]
  },
  {
   "cell_type": "code",
   "execution_count": null,
   "id": "c8d3d732",
   "metadata": {},
   "outputs": [],
   "source": [
    "stemmer = nltk.stem.SnowballStemmer('english')\n",
    "rest_stopwords = stopwords.words('english')\n",
    "rest_stopwords.extend(['restaurant', 'food', 'go', 'one', 'get', 'us', 'could', 'would', 'didnt', 'dont', 'wont', 'came', 'come'])\n",
    "\n",
    "def my_tokenizer(sentence):\n",
    "    # remove punctuations and set to lower case\n",
    "    for punctuation_mark in string.punctuation:\n",
    "        sentence = sentence.replace(punctuation_mark, '').lower()\n",
    "        \n",
    "    # split sentence to words\n",
    "    listofwords = sentence.split(' ')\n",
    "    listofstemmedwords = []\n",
    "        \n",
    "    #remove stopwords and any tokens that are empty strings\n",
    "    for word in listofwords:\n",
    "        if (not word in rest_stopwords) and (word != ''):\n",
    "            #stem words\n",
    "            stemmed_word = stemmer.stem(word)\n",
    "            listofstemmedwords.append(stemmed_word)\n",
    "\n",
    "    return listofstemmedwords"
   ]
  },
  {
   "cell_type": "code",
   "execution_count": null,
   "id": "01e2f2c1",
   "metadata": {},
   "outputs": [],
   "source": [
    "# get the list of words\n",
    "open_words = my_tokenizer(open_text)\n",
    "\n",
    "# counter for number of times occured in the list\n",
    "open_words_count = Counter(open_words)\n",
    "\n",
    "# make dataframe of 20 most frequent words\n",
    "open_words_df = pd.DataFrame(columns=['word', 'count'])\n",
    "\n",
    "k = 0\n",
    "for i,j in open_words_count.most_common(20):\n",
    "    open_words_df.loc[k,'word'] = i\n",
    "    open_words_df.loc[k,'count'] = j\n",
    "    k = k+1\n",
    "\n",
    "# plot the most frequent words\n",
    "plt.figure(figsize=(20,6))\n",
    "plt.bar(open_words_df['word'], open_words_df['count'], color='cornflowerblue')\n",
    "plt.xlabel('Words')\n",
    "plt.ylabel('Frequency')\n",
    "plt.title('Most frequent words used in bad reviews for Open Restaurants')\n",
    "plt.xticks(rotation=45, size=12)\n",
    "plt.show()"
   ]
  },
  {
   "cell_type": "code",
   "execution_count": null,
   "id": "befdb6e5",
   "metadata": {},
   "outputs": [],
   "source": [
    "# get the list of words\n",
    "closed_words = my_tokenizer(close_text)\n",
    "\n",
    "# counter for number of times word occured in the list\n",
    "closed_words_count = Counter(closed_words)\n",
    "\n",
    "# make dataframe of 20 most frequent words\n",
    "closed_words_df = pd.DataFrame(columns=['word', 'count'])\n",
    "\n",
    "k = 0\n",
    "for i,j in closed_words_count.most_common(20):\n",
    "    closed_words_df.loc[k,'word'] = i\n",
    "    closed_words_df.loc[k,'count'] = j\n",
    "    k = k+1\n",
    "\n",
    "# plot the most frequent words\n",
    "plt.figure(figsize=(20,6))\n",
    "plt.bar(closed_words_df['word'], closed_words_df['count'], color='orange')\n",
    "plt.xlabel('Words')\n",
    "plt.ylabel('Frequency')\n",
    "plt.title('Most frequent words used in bad reviews for Closed Restaurants')\n",
    "plt.xticks(rotation=45, size=12)\n",
    "plt.show()\n"
   ]
  },
  {
   "cell_type": "markdown",
   "id": "ae5630ba",
   "metadata": {},
   "source": [
    "Words used are mostly same for both classes, not much of insights could be derived with the analysis above. Therefore, new feature of sentiment score will be added by using compound score of Vader's sentiment analysis which gives sentiment score for the statement in 3 parameters - positive, negative and neutral. Compound score is a combined score of the three and has a range of -1 to 1. Score less than 0 will be treated as negative and greater than 0 will be treated as positive. This will be performed as a part of Feature Engineering."
   ]
  },
  {
   "cell_type": "markdown",
   "id": "1cbc3642",
   "metadata": {},
   "source": [
    "**4. date:** \n",
    "We will also look into % of restaurants that were closed in a year. For this, opening year will be derived from the first review date and closing year from the last review date in the reviews dataset. Next, the number of restaurants opened or closed in a year will be calculated by using groupby and hence, number of open restaurants for a year is calculated by:\n",
    "\n",
    "Open Restaurants = Restaurants opened this year + Restaurants that were open till last year - Restaurants closed this year"
   ]
  },
  {
   "cell_type": "code",
   "execution_count": null,
   "id": "1bec1d60",
   "metadata": {},
   "outputs": [],
   "source": [
    "# making a dataframe with opening and closing year for each restaurant\n",
    "business_df = pd.DataFrame(columns=['ID','is_open','opening_year', 'closing_year'])\n",
    "i=0\n",
    "\n",
    "# looping through all restaurants\n",
    "for i, restaurant in restaurants_df.iterrows():\n",
    "    \n",
    "    # getting all reviews data for the restaurant\n",
    "    restaurants = merged_df[merged_df['business_id'] == restaurant['business_id']]\n",
    "    \n",
    "    business_df.loc[i, 'ID'] = restaurant['business_id']\n",
    "    business_df.loc[i, 'is_open'] = restaurant['is_open']\n",
    "    business_df.loc[i, 'opening_year'] = min(pd.to_datetime(restaurants['date']).dt.year)\n",
    "    if restaurant['is_open'] == 0:\n",
    "        business_df.loc[i, 'closing_year'] = max(pd.to_datetime(restaurants['date']).dt.year)\n",
    "    i += 1\n",
    "\n",
    "# creating two dataframes for number of restaurants opening and closing in particular year\n",
    "opening_year_df = business_df.groupby(['opening_year']).count()['ID']\n",
    "closing_year_df = business_df.groupby(['closing_year']).count()['ID']\n",
    "\n",
    "# merging the two dataframes\n",
    "final_df = pd.merge(left= opening_year_df, right=closing_year_df, how='left',\\\n",
    "                    left_on=opening_year_df.index, right_on=closing_year_df.index)\n",
    "\n",
    "final_df.columns = ['Year', 'Opened', 'Closed']\n",
    "\n",
    "# for previous year count\n",
    "open_rest_count = 0\n",
    "\n",
    "# loop through all years\n",
    "for i, year in final_df.iterrows():\n",
    "    # check for NaN\n",
    "    if (year['Closed'] == year['Closed']):\n",
    "        open_rest_count = year['Opened'] - year['Closed'] + open_rest_count\n",
    "    else:\n",
    "        open_rest_count = year['Opened'] + open_rest_count\n",
    "    \n",
    "    final_df.loc[i, 'Total Open'] = open_rest_count\n",
    "    \n",
    "final_df"
   ]
  },
  {
   "cell_type": "markdown",
   "id": "42871275",
   "metadata": {},
   "source": [
    "Next % of restaurants that were closed in a year will also be analyzed:"
   ]
  },
  {
   "cell_type": "code",
   "execution_count": null,
   "id": "72530d22",
   "metadata": {},
   "outputs": [],
   "source": [
    "plt.figure(figsize=(20,5))\n",
    "plt.plot(final_df['Year'], final_df['Closed']/final_df['Total Open']*100, marker='o')\n",
    "plt.xlabel('Year', size=14)\n",
    "plt.ylabel('% of closed restaurants', size=14)\n",
    "plt.title('Percentage of restaurants closed over the years', size=16)\n",
    "plt.show()"
   ]
  },
  {
   "cell_type": "markdown",
   "id": "ea9ebe8c",
   "metadata": {},
   "source": [
    "By looking at the graph above, we see an increasing trend in percentage of restaurants that were closed until 2019. But, based on the fact that COVID hit in 2020, we do not see an increase in the percentage of closed restaurants, rather the percentage of closed restaurants decreased by 3.5% as compared to 2019. \n",
    "\n",
    "We will be doing the Feature Engineering next."
   ]
  },
  {
   "cell_type": "markdown",
   "id": "9440d157",
   "metadata": {},
   "source": [
    "## Feature Engineering"
   ]
  },
  {
   "cell_type": "markdown",
   "id": "c7a4c9d3",
   "metadata": {},
   "source": [
    "Most of the features analyzed above did not provide meaningful insight into the restaurant's performance, we will add new features to our dataset.\n",
    "In this step, following features will be extracted from reviews dataset to the restaurants dataset.\n",
    "1. **Sentiment score:** This field will be calculated to get the sentiment behind the review by using Vader's sentiment analyzer. VADER (Valence Aware Dictionary for Sentiment Reasoning) is a model used for text sentiment analysis that is sensitive to both polarity (positive/negative) and intensity (strength) of emotion. Analyzer gives score in 4 categories - negative, neutral, positive and compound. In this analysis, compound score will be used which is computed by normalizing the scores of negative, neutral and positive. For a restaurant, mean value of all review's sentiment score will be taken.\n",
    "2. **Review length:** This feature will give us the number of words used in the reviews which might help us in predicting the target variable 'is_open'. For a restaurant, mean value of all review's length will be taken.\n",
    "3. **Age:** Age of a restaurant will be calculated as a difference of the first date when review was posted for a business and last day of review posting(for closed restaurants) or 16 March 2021(date when this data was made available), whichever is earlier.\n",
    "4. **Repeat users:** This field will provide information about number of customers posting multiple reviews for a particular restaurant.\n",
    "5. **Reviews per week:** This field will help in identifying number of reviews received by a restaurant in a week. It is calculated by dividing the total number of reviews and total number of weeks during which restaurant was operational.\n",
    "6. **Reactions per week:** It is the sum of 'useful', 'cool' and 'funny' votes for a restaurant divided by number of weeks.\n",
    "7. **User Stars:** Median value of all the stars received by a restaurant"
   ]
  },
  {
   "cell_type": "code",
   "execution_count": null,
   "id": "a5fc625d",
   "metadata": {},
   "outputs": [],
   "source": [
    "# sentiment score\n",
    "sid = SentimentIntensityAnalyzer()\n",
    "reviews_df['sentiment_score'] = reviews_df['text'].apply(lambda text: sid.polarity_scores(text))\\\n",
    "                                                .apply(lambda score_dict: score_dict['compound'])"
   ]
  },
  {
   "cell_type": "code",
   "execution_count": null,
   "id": "862b3f29",
   "metadata": {},
   "outputs": [],
   "source": [
    "# reviews length\n",
    "reviews_df['review_length'] = reviews_df['text'].str.split().apply(len)"
   ]
  },
  {
   "cell_type": "code",
   "execution_count": null,
   "id": "1227ddfc",
   "metadata": {},
   "outputs": [],
   "source": [
    "from datetime import datetime\n",
    "\n",
    "# repeat users of the restaurant\n",
    "restaurants_df['repeat_users'] = np.NaN\n",
    "\n",
    "# age of the restaurant\n",
    "restaurants_df['age'] = np.NaN\n",
    "\n",
    "# reviews and reactions per week\n",
    "restaurants_df['reviews_per_week'] = np.NaN\n",
    "restaurants_df['reactions_per_week'] = np.NaN\n",
    "\n",
    "# sentiment of reviews and length of reviews\n",
    "restaurants_df['sentiment_score'] = np.NaN\n",
    "restaurants_df['review_length'] = np.NaN\n",
    "\n",
    "# median rating given to restaurant by user\n",
    "restaurants_df['user_stars'] = np.NaN\n",
    "\n",
    "for i, restaurant in restaurants_df.iterrows():\n",
    "    \n",
    "    # reset all variables\n",
    "    age = np.NaN\n",
    "    n_week = np.NaN\n",
    "    n_reviews = np.NaN\n",
    "    n_reactions = np.NaN\n",
    "    chain_restaurant = np.NaN\n",
    "    \n",
    "    # get all the reviews for a restaurant\n",
    "    restaurant_reviews = reviews_df[reviews_df['business_id'] == restaurant['business_id']]\n",
    "    \n",
    "    # age of restaurant calculated by difference of years from date when data became available or last review date for closed restaurants and first review\n",
    "    if restaurant['is_open'] == 1:\n",
    "        age = (datetime.strptime('Mar 16 2021', '%b %d %Y') - min(pd.to_datetime(restaurant_reviews['date']))).days/365\n",
    "    else:\n",
    "        age = (max(pd.to_datetime(restaurant_reviews['date'])) - min(pd.to_datetime(restaurant_reviews['date']))).days/365\n",
    "        \n",
    "    # total time in weeks during which restaurant received reviews\n",
    "    n_week = (max(pd.to_datetime(restaurant_reviews['date'])) - min(pd.to_datetime(restaurant_reviews['date']))).days/7\n",
    "    \n",
    "    # total reviews and reactions\n",
    "    n_reviews = len(restaurant_reviews)\n",
    "    n_reactions = restaurant_reviews['useful'].sum() + restaurant_reviews['cool'].sum() + restaurant_reviews['funny'].sum()\n",
    "    \n",
    "    # assign values\n",
    "    \n",
    "    # repeat customers\n",
    "    restaurants_df.loc[i, 'repeat_users'] = restaurant_reviews['user_id'].duplicated().sum()\n",
    "    \n",
    "    # assign age of restaurant\n",
    "    restaurants_df.loc[i, 'age'] = age\n",
    "    \n",
    "    # reviews and reactions per week\n",
    "    restaurants_df.loc[i, 'reviews_per_week'] = n_reviews/n_week\n",
    "    restaurants_df.loc[i, 'reactions_per_week'] = n_reactions/n_week\n",
    "    \n",
    "    # median rating\n",
    "    restaurants_df.loc[i, 'user_stars'] = restaurant_reviews['stars'].median()\n",
    "    \n",
    "    # mean sentiment score and review length\n",
    "    restaurants_df.loc[i,'sentiment_score'] = restaurant_reviews['sentiment_score'].mean()\n",
    "    restaurants_df.loc[i,'review_length'] = restaurant_reviews['review_length'].mean()\n",
    "        \n",
    "    print(i, end='\\r')"
   ]
  },
  {
   "cell_type": "markdown",
   "id": "dc2c408f",
   "metadata": {},
   "source": [
    "Next, restaurant dataset created above will be utilized to extract the features with respect to other restaurants within a radius of 1 Km:\n",
    "1. **Similar Restaurant Density:** This feature will list the number of restaurants within 1 Km radius that fall in similar category.\n",
    "2. **All Restaurant Density:** This feature will give total number of restaurants within 1 km radius.\n",
    "3. **Relative Stars:** This feature is calculated using z-score which gives the position of restaurant's stars compared to mean value of all the restaurants within area of 1 km radius\n",
    "4. **Relative Reviews Count:** This feature is calculated using z-score which gives the position of restaurants total reviews compared to mean value of all the restaurants within 1 km radius\n",
    "5. **Relative Reviews per week:** This feature is calculated using z-score which gives the position of restaurants reviews per week compared to mean value of all the restaurants within 1 km radius\n",
    "6. **Relative User Stars:** This feature is calculated using z-score which gives the position of restaurants user stars compared to mean value of all the restaurants within 1 km radius\n",
    "7. **Relative Repeat Users:** This feature is calculated using z-score which gives the position of restaurants repeat customers compared to mean value of all the restaurants within 1 km radius."
   ]
  },
  {
   "cell_type": "markdown",
   "id": "2b839226",
   "metadata": {},
   "source": [
    "For similar restaurants, categories_dictionary will be created. Categories dictionary will have all the unique categories and sub-categories within our dataset as keys. Values will be the indices of restaurant rows with the given category mentioned under their categories column. As seen in the dataset, categories column is a list and contains one or more categories. We will not add `Restaurants` and `Food` in our categories dictionary as these are generic in nature and most of the restaurants will have this super category listed."
   ]
  },
  {
   "cell_type": "code",
   "execution_count": null,
   "id": "b4d83694",
   "metadata": {},
   "outputs": [],
   "source": [
    "categories_dict = {}\n",
    "for i, restaurant in restaurants_df.iterrows():\n",
    "    categories = restaurant['categories'].split(',')\n",
    "    for category in categories:\n",
    "        category = category.strip()\n",
    "        if ((category != 'Restaurants') & (category != 'Food')):\n",
    "            try:\n",
    "                categories_dict[category] += [i]\n",
    "            except:\n",
    "                categories_dict[category] = [i]"
   ]
  },
  {
   "attachments": {
    "image.png": {
     "image/png": "[encoded data removed]"
    }
   },
   "cell_type": "markdown",
   "id": "49245eee",
   "metadata": {},
   "source": [
    "To calculate the number of similar restaurants within 1 km, categories dictionary will be used and to calculate the distance using geographical coordinates, **'haversine formula'** will be used:\n",
    "\n",
    "![image.png](attachment:image.png)\n",
    "\n",
    "Latitude and longitude values will be first converted into radians and then will be passed into this formula to calculate the distance."
   ]
  },
  {
   "cell_type": "code",
   "execution_count": null,
   "id": "48824185",
   "metadata": {},
   "outputs": [],
   "source": [
    "# this function returns distance in km given longitude and latitude of two locations\n",
    "def distance_in_km(lat1, lat2, long1, long2):\n",
    "    # earth radius in km\n",
    "    R = 6371\n",
    "    \n",
    "    # converting latitude to radians\n",
    "    phi1 = math.radians(lat1)\n",
    "    phi2 = math.radians(lat2)\n",
    "    phi_diff = math.radians(lat2-lat1)\n",
    "    \n",
    "    # converting longitude difference to radians\n",
    "    lambda_diff = math.radians(long2-long1)\n",
    "    \n",
    "    # using Haversine formula for distance calculation\n",
    "    a = math.sin(phi_diff/2)**2 + math.cos(phi1)*math.cos(phi2) * math.sin(lambda_diff/2)**2\n",
    "    c = 2 * math.atan2(math.sqrt(a), math.sqrt(1-a))\n",
    "    \n",
    "    # distance in km\n",
    "    d = R * c\n",
    "    \n",
    "    return d"
   ]
  },
  {
   "cell_type": "code",
   "execution_count": null,
   "id": "c12b217f",
   "metadata": {},
   "outputs": [],
   "source": [
    "# restaurant density within 1 km (all categories and similar category, number will include the restaurant)\n",
    "restaurants_df['similar_restaurants_density'] = np.nan\n",
    "restaurants_df['all_restaurants_density'] = np.nan\n",
    "\n",
    "# relative values for all restaurants within 1 Km\n",
    "restaurants_df['relative_reviews_count'] = np.nan\n",
    "restaurants_df['relative_reviews_per_week'] = np.nan\n",
    "restaurants_df['relative_stars'] = np.nan\n",
    "restaurants_df['relative_user_stars'] = np.nan\n",
    "restaurants_df['relative_repeat_users'] = np.nan\n",
    "restaurants_df['relative_price'] = np.nan\n",
    "\n",
    "for i, restaurant in restaurants_df.iterrows():\n",
    "    index_similar = []\n",
    "    similar_restaurants = 0\n",
    "    all_restaurants = 0\n",
    "    relative_reviews_count = []\n",
    "    relative_reviews_per_week = []\n",
    "    relative_stars = []\n",
    "    relative_user_stars = []\n",
    "    relative_repeat_users = []\n",
    "    relative_price = []\n",
    "    \n",
    "    long_i = restaurant['longitude']\n",
    "    lat_i = restaurant['latitude']\n",
    "   \n",
    "    \n",
    "    categories = restaurant['categories'].split(',')\n",
    "    for category in categories:\n",
    "        category = category.strip()\n",
    "        if ((category != 'Restaurants') & (category != 'Food')):\n",
    "            index_similar.append(categories_dict[category])\n",
    "        \n",
    "    for j, jrestaurant in restaurants_df.iterrows():\n",
    "        long_j = jrestaurant['longitude']\n",
    "        lat_j = jrestaurant['latitude']\n",
    "         \n",
    "        # calculate distance in kms\n",
    "        dist = distance_in_km(lat_i,lat_j,long_i,long_j)\n",
    "        \n",
    "        # if less than 1 km add to the list\n",
    "        if dist <= 1:\n",
    "            \n",
    "            \n",
    "            # check whether list is empty\n",
    "            if (index_similar != []):\n",
    "                # check if it's in similar category\n",
    "                if j in index_similar[0]:\n",
    "                    # increase similar restaurant density by 1\n",
    "                    similar_restaurants += 1\n",
    "                    \n",
    "            # increase restaurant density by 1 and append values in relative list\n",
    "            all_restaurants += 1\n",
    "            relative_reviews_count.append(jrestaurant['review_count'])\n",
    "            relative_reviews_per_week.append(jrestaurant['reviews_per_week'])\n",
    "            relative_stars.append(jrestaurant['stars'])\n",
    "            relative_user_stars.append(jrestaurant['user_stars'])\n",
    "            relative_repeat_users.append(jrestaurant['repeat_users'])\n",
    "            relative_price.append(jrestaurant['RestaurantsPriceRange2'])\n",
    "        \n",
    "    # restaurant density within 1 km (all categories and similar category)\n",
    "    restaurants_df.loc[i, 'similar_restaurants_density'] = similar_restaurants\n",
    "    restaurants_df.loc[i, 'all_restaurants_density'] = all_restaurants\n",
    "\n",
    "    # relative values for all restaurants within 1 Km\n",
    "    restaurants_df.loc[i, 'relative_reviews_count'] = (restaurant['review_count']-np.nanmean(relative_reviews_count))/np.nanstd(relative_reviews_count)\n",
    "    restaurants_df.loc[i, 'relative_reviews_per_week'] = (restaurant['reviews_per_week']-np.nanmean(relative_reviews_per_week))/np.nanstd(relative_reviews_per_week)\n",
    "    restaurants_df.loc[i, 'relative_stars'] = (restaurant['stars']-np.nanmean(relative_stars))/np.nanstd(relative_stars)\n",
    "    restaurants_df.loc[i, 'relative_user_stars'] = (restaurant['user_stars']-np.nanmean(relative_user_stars))/np.nanstd(relative_user_stars)\n",
    "    restaurants_df.loc[i, 'relative_repeat_users'] = (restaurant['repeat_users']-np.nanmean(relative_repeat_users))/np.nanstd(relative_repeat_users)\n",
    "    restaurants_df.loc[i, 'relative_price'] = (restaurant['RestaurantsPriceRange2']-np.nanmean(relative_price))/np.nanstd(relative_price)\n",
    "    \n",
    "    print(i, end='\\r')"
   ]
  },
  {
   "cell_type": "code",
   "execution_count": null,
   "id": "c978ab56",
   "metadata": {},
   "outputs": [],
   "source": [
    "# view the dataset\n",
    "restaurants_df.head(3)"
   ]
  },
  {
   "cell_type": "code",
   "execution_count": null,
   "id": "a4b20419",
   "metadata": {},
   "outputs": [],
   "source": [
    "# check for missing values\n",
    "restaurants_df.isna().sum()"
   ]
  },
  {
   "cell_type": "code",
   "execution_count": null,
   "id": "0514e12d",
   "metadata": {},
   "outputs": [],
   "source": [
    "# check the data for null values\n",
    "restaurants_df[restaurants_df['relative_price'].isna()].head(4)"
   ]
  },
  {
   "cell_type": "markdown",
   "id": "53f99e60",
   "metadata": {},
   "source": [
    "We see NaN values in relative field for the restaurants which represents limited restaurants in the neighborhood. We will drop these rows."
   ]
  },
  {
   "cell_type": "code",
   "execution_count": null,
   "id": "aad2adbd",
   "metadata": {},
   "outputs": [],
   "source": [
    "# drop rows\n",
    "restaurants_df.dropna(subset=['relative_reviews_per_week', 'relative_stars', 'relative_user_stars', 'relative_repeat_users', 'relative_price'], inplace=True)"
   ]
  },
  {
   "cell_type": "code",
   "execution_count": null,
   "id": "33681c31",
   "metadata": {},
   "outputs": [],
   "source": [
    "# check for missing values\n",
    "restaurants_df.isna().sum()"
   ]
  },
  {
   "cell_type": "code",
   "execution_count": null,
   "id": "9d400bdf",
   "metadata": {},
   "outputs": [],
   "source": [
    "# reset index\n",
    "restaurants_df = restaurants_df.reset_index(drop=True)\n",
    "# check shape of data\n",
    "restaurants_df.shape"
   ]
  },
  {
   "cell_type": "markdown",
   "id": "7d07d41a",
   "metadata": {},
   "source": [
    "Next step is to drop the following columns as relevant information have been converted and added as a field wherever needed.\n",
    "1. business_id\n",
    "2. categories"
   ]
  },
  {
   "cell_type": "code",
   "execution_count": null,
   "id": "41d801b3",
   "metadata": {},
   "outputs": [],
   "source": [
    "restaurants_df.drop(columns=['business_id', 'categories'], inplace=True)"
   ]
  },
  {
   "cell_type": "markdown",
   "id": "0ed0cfe3",
   "metadata": {},
   "source": [
    "Next, new features added above will be analyzed."
   ]
  },
  {
   "cell_type": "code",
   "execution_count": null,
   "id": "ba260b75",
   "metadata": {},
   "outputs": [],
   "source": [
    "column_list = ['repeat_users', 'age', 'reviews_per_week', 'reactions_per_week', 'sentiment_score', 'review_length',\\\n",
    "               'user_stars', 'relative_price', 'similar_restaurants_density', 'all_restaurants_density', 'relative_reviews_count',\\\n",
    "               'relative_reviews_per_week', 'relative_stars', 'relative_user_stars', 'relative_repeat_users']\n",
    "\n",
    "plt.subplots(3,5, figsize=(20,12))\n",
    "for i in range(len(column_list)):\n",
    "    plt.subplot(3,5, i+1)\n",
    "    restaurants_df[restaurants_df['is_open']==1][column_list[i]].plot(kind='hist', color='cornflowerblue', alpha=0.8)\n",
    "    restaurants_df[restaurants_df['is_open']==0][column_list[i]].plot(kind='hist', color='orange', alpha=0.8)\n",
    "    plt.title(f'{column_list[i]} Distribution')\n",
    "    plt.xlabel(column_list[i])\n",
    "    plt.ylabel('Frequency')\n",
    "plt.tight_layout()\n",
    "plt.show()"
   ]
  },
  {
   "cell_type": "markdown",
   "id": "17630454",
   "metadata": {},
   "source": [
    "- Repeat users: By looking at the graph above, open restaurants have higher number of repeat customers as compared to closed restaurants.\n",
    "- Age: As expected, open restaurants have greater age as compared to the closed restaurants. Most restaurants get closed within 5-6 years.\n",
    "- Reviews per week: Both closed and open restaurants receive 1-2 reviews per week. \n",
    "- Reactions per week: This value is almost negligible for both open and closed restaurants. We see one bar for open restaurants whereas for closed restaurants, there is a small variation in the number of reactions per week which shows this value is comparably lower for closed restaurants.\n",
    "- Sentiment Score: For both closed and open restaurants, sentiment score leans towards the positive side.\n",
    "- Review length: Review length (number of characters) is greater for closed restaurants as compared to open restaurants.\n",
    "- User Stars: There is no clear trend in user stars distribution. It appears to be same for closed and open restaurants.\n",
    "- Relative Price: Relative price range for closed restaurants is higher than the mean value of price for most of the restaurants within 1 km radius.\n",
    "- Similar Restaurants Density: Probability of restaurant getting closed increases with increase in similar restaurant density which is number of restaurants competing in similar category within 1 km radius.\n",
    "- All Restaurants Density: There is a higher probability of restaurant getting closed if number of restaurants within 1 km radius are greater than 350.\n",
    "- Relative Reviews Count: Review count of closed restaurants is less than the mean review count for restaurants within 1 km.\n",
    "- Relative Reviews per week: Reviews per week for closed restaurants is lower than the open restaurants and the mean value for restaurants within 1 km.\n",
    "- Relative Stars: Relative stars for closed restaurants is less than the mean value of stars for restaurants within 1 km\n",
    "- Relative User Stars: This value is balanced on both the sides of the mean value, but the highest number of restaurants have value close to mean value of restaurants within 1 km radius.\n",
    "- Relative Repeat Users: Most of the closed restaurants have value less than 0 which shows number of repeat users are less compared to other restaurants within 1 km radius."
   ]
  },
  {
   "cell_type": "markdown",
   "id": "f7d87471",
   "metadata": {},
   "source": [
    "Final dataset shape will be checked next and dataset will be saved as `restaurants_final.csv` in data folder to be used for training the models and predicting the future of a restaurant along with the essential features most closely related to it's survival."
   ]
  },
  {
   "cell_type": "code",
   "execution_count": null,
   "id": "b2baaaa4",
   "metadata": {},
   "outputs": [],
   "source": [
    "# final shape of the dataset\n",
    "restaurants_df.shape"
   ]
  },
  {
   "cell_type": "markdown",
   "id": "49d3eb71",
   "metadata": {},
   "source": [
    "After all the above EDA and feature engineering, we have 4,660 restaurants and 60 features including our target variable. As a next step, the file will be saved in data folder as csv to be used for Modelling and Model Evaluation in Part 3."
   ]
  },
  {
   "cell_type": "code",
   "execution_count": null,
   "id": "0cac5983",
   "metadata": {},
   "outputs": [],
   "source": [
    "restaurants_df.to_csv(r'data\\restaurants_final.csv', encoding='utf-8', index=False)"
   ]
  },
  {
   "cell_type": "markdown",
   "id": "ebe59a26",
   "metadata": {
    "scrolled": false
   },
   "source": [
    "We will do Data modelling and model evaluation in **'3_Model_and_Evaluation'** notebook."
   ]
  }
 ],
 "metadata": {
  "interpreter": {
   "hash": "7605179d73e12f0aa6bb6695c3fa309c277e40d049d37c67c4f1dc5c2023a773"
  },
  "kernelspec": {
   "display_name": "Python 3 (ipykernel)",
   "language": "python",
   "name": "python3"
  },
  "language_info": {
   "codemirror_mode": {
    "name": "ipython",
    "version": 3
   },
   "file_extension": ".py",
   "mimetype": "text/x-python",
   "name": "python",
   "nbconvert_exporter": "python",
   "pygments_lexer": "ipython3",
   "version": "3.9.7"
  }
 },
 "nbformat": 4,
 "nbformat_minor": 5
}
