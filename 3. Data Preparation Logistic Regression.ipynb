{
 "cells": [
  {
   "cell_type": "markdown",
   "id": "d8386e38",
   "metadata": {},
   "source": [
    "# Data Preparation Logistic Regression"
   ]
  },
  {
   "cell_type": "markdown",
   "id": "598eb57f",
   "metadata": {},
   "source": [
    "### Importing the Data Subset\n",
    "After importing the `restaurants_final.csv` we will check the data to ensure that data is not corrupted.\n",
    "\n",
    "**Importing**\n",
    "\n",
    "The first step is to import all modules and libraries which will be used throughout this part. Afterwards, the dataframe will be imported."
   ]
  },
  {
   "cell_type": "code",
   "execution_count": 1,
   "id": "fb5943c7",
   "metadata": {},
   "outputs": [],
   "source": [
    "import numpy as np\n",
    "import pandas as pd\n",
    "import matplotlib.pyplot as plt\n",
    "import seaborn as sns\n",
    "%matplotlib inline\n",
    "\n",
    "import pyarrow\n",
    "import joblib\n",
    "\n",
    "from sklearn.preprocessing import StandardScaler, MinMaxScaler\n",
    "from sklearn.model_selection import train_test_split\n",
    "\n",
    "from sklearn.linear_model import LogisticRegression\n",
    "from sklearn.tree import DecisionTreeClassifier\n",
    "from sklearn.ensemble import GradientBoostingClassifier\n",
    "from sklearn.ensemble import RandomForestClassifier\n",
    "\n",
    "from sklearn.metrics import confusion_matrix, plot_confusion_matrix \n",
    "from sklearn.metrics import precision_score, recall_score, classification_report, roc_curve, roc_auc_score\n",
    "\n",
    "from sklearn.model_selection import GridSearchCV\n",
    "from sklearn.pipeline import Pipeline\n",
    "\n",
    "# to display all columns\n",
    "pd.set_option(\"display.max_columns\", None)\n",
    "\n",
    "import warnings\n",
    "warnings.filterwarnings('ignore')"
   ]
  },
  {
   "cell_type": "code",
   "execution_count": 2,
   "id": "c9c6fe36",
   "metadata": {},
   "outputs": [],
   "source": [
    "import plotly.express as px\n",
    "import matplotlib\n",
    "import matplotlib.pyplot as plt\n",
    "import seaborn as sns\n",
    "%matplotlib inline\n",
    "pd.set_option('display.max_columns', None)\n",
    "pd.set_option('display.max_rows', 150)\n",
    "sns.set_style('darkgrid')\n",
    "\n",
    "matplotlib.rcParams['font.size'] = 14\n",
    "matplotlib.rcParams['figure.figsize'] = (10, 6)\n",
    "matplotlib.rcParams['figure.facecolor'] = '#00000000'"
   ]
  },
  {
   "cell_type": "code",
   "execution_count": 3,
   "id": "b5d2a728",
   "metadata": {},
   "outputs": [],
   "source": [
    "# Read in the csv file\n",
    "df = pd.read_csv(r'data\\restaurants_final.csv')"
   ]
  },
  {
   "cell_type": "code",
   "execution_count": 4,
   "id": "dde7945d",
   "metadata": {},
   "outputs": [
    {
     "data": {
      "text/html": [
       "<div>\n",
       "<style scoped>\n",
       "    .dataframe tbody tr th:only-of-type {\n",
       "        vertical-align: middle;\n",
       "    }\n",
       "\n",
       "    .dataframe tbody tr th {\n",
       "        vertical-align: top;\n",
       "    }\n",
       "\n",
       "    .dataframe thead th {\n",
       "        text-align: right;\n",
       "    }\n",
       "</style>\n",
       "<table border=\"1\" class=\"dataframe\">\n",
       "  <thead>\n",
       "    <tr style=\"text-align: right;\">\n",
       "      <th></th>\n",
       "      <th>latitude</th>\n",
       "      <th>longitude</th>\n",
       "      <th>stars</th>\n",
       "      <th>review_count</th>\n",
       "      <th>is_open</th>\n",
       "      <th>is_chain</th>\n",
       "      <th>Num_of_attributes_shared</th>\n",
       "      <th>RestaurantsPriceRange2</th>\n",
       "      <th>RestaurantsTakeOut_True</th>\n",
       "      <th>RestaurantsTakeOut_False</th>\n",
       "      <th>RestaurantsDelivery_True</th>\n",
       "      <th>RestaurantsDelivery_False</th>\n",
       "      <th>OutdoorSeating_True</th>\n",
       "      <th>OutdoorSeating_False</th>\n",
       "      <th>RestaurantsReservations_True</th>\n",
       "      <th>RestaurantsReservations_False</th>\n",
       "      <th>RestaurantsGoodForGroups_True</th>\n",
       "      <th>RestaurantsGoodForGroups_False</th>\n",
       "      <th>GoodForKids_True</th>\n",
       "      <th>GoodForKids_False</th>\n",
       "      <th>Nightlife</th>\n",
       "      <th>Bars</th>\n",
       "      <th>Sandwiches</th>\n",
       "      <th>American (Traditional)</th>\n",
       "      <th>American (New)</th>\n",
       "      <th>Fast Food</th>\n",
       "      <th>Breakfast &amp; Brunch</th>\n",
       "      <th>Pizza</th>\n",
       "      <th>Burgers</th>\n",
       "      <th>Coffee &amp; Tea</th>\n",
       "      <th>Mexican</th>\n",
       "      <th>Cafes</th>\n",
       "      <th>Seafood</th>\n",
       "      <th>Italian</th>\n",
       "      <th>Chicken Wings</th>\n",
       "      <th>Salad</th>\n",
       "      <th>Event Planning &amp; Services</th>\n",
       "      <th>Latin American</th>\n",
       "      <th>Food Trucks</th>\n",
       "      <th>Specialty Food</th>\n",
       "      <th>Chinese</th>\n",
       "      <th>Delis</th>\n",
       "      <th>Sushi Bars</th>\n",
       "      <th>Desserts</th>\n",
       "      <th>Caterers</th>\n",
       "      <th>repeat_users</th>\n",
       "      <th>age</th>\n",
       "      <th>reviews_per_week</th>\n",
       "      <th>reactions_per_week</th>\n",
       "      <th>sentiment_score</th>\n",
       "      <th>review_length</th>\n",
       "      <th>user_stars</th>\n",
       "      <th>similar_restaurants_density</th>\n",
       "      <th>all_restaurants_density</th>\n",
       "      <th>relative_reviews_count</th>\n",
       "      <th>relative_reviews_per_week</th>\n",
       "      <th>relative_stars</th>\n",
       "      <th>relative_user_stars</th>\n",
       "      <th>relative_repeat_users</th>\n",
       "      <th>relative_price</th>\n",
       "    </tr>\n",
       "  </thead>\n",
       "  <tbody>\n",
       "    <tr>\n",
       "      <th>0</th>\n",
       "      <td>27.955269</td>\n",
       "      <td>-82.456320</td>\n",
       "      <td>4.0</td>\n",
       "      <td>10</td>\n",
       "      <td>1</td>\n",
       "      <td>0</td>\n",
       "      <td>6</td>\n",
       "      <td>2</td>\n",
       "      <td>0</td>\n",
       "      <td>0</td>\n",
       "      <td>0</td>\n",
       "      <td>0</td>\n",
       "      <td>0</td>\n",
       "      <td>0</td>\n",
       "      <td>0</td>\n",
       "      <td>1</td>\n",
       "      <td>0</td>\n",
       "      <td>0</td>\n",
       "      <td>0</td>\n",
       "      <td>0</td>\n",
       "      <td>0</td>\n",
       "      <td>0</td>\n",
       "      <td>0</td>\n",
       "      <td>0</td>\n",
       "      <td>0</td>\n",
       "      <td>0</td>\n",
       "      <td>0</td>\n",
       "      <td>0</td>\n",
       "      <td>0</td>\n",
       "      <td>0</td>\n",
       "      <td>0</td>\n",
       "      <td>0</td>\n",
       "      <td>0</td>\n",
       "      <td>0</td>\n",
       "      <td>0</td>\n",
       "      <td>0</td>\n",
       "      <td>0</td>\n",
       "      <td>0</td>\n",
       "      <td>1</td>\n",
       "      <td>0</td>\n",
       "      <td>0</td>\n",
       "      <td>0</td>\n",
       "      <td>0</td>\n",
       "      <td>0</td>\n",
       "      <td>0</td>\n",
       "      <td>1.0</td>\n",
       "      <td>2.641096</td>\n",
       "      <td>0.061257</td>\n",
       "      <td>0.284010</td>\n",
       "      <td>0.743791</td>\n",
       "      <td>79.818182</td>\n",
       "      <td>5.0</td>\n",
       "      <td>5.0</td>\n",
       "      <td>171.0</td>\n",
       "      <td>-0.405611</td>\n",
       "      <td>-0.513680</td>\n",
       "      <td>0.402896</td>\n",
       "      <td>1.004273</td>\n",
       "      <td>-0.254448</td>\n",
       "      <td>0.509729</td>\n",
       "    </tr>\n",
       "    <tr>\n",
       "      <th>1</th>\n",
       "      <td>28.046203</td>\n",
       "      <td>-82.505053</td>\n",
       "      <td>4.0</td>\n",
       "      <td>23</td>\n",
       "      <td>0</td>\n",
       "      <td>0</td>\n",
       "      <td>17</td>\n",
       "      <td>2</td>\n",
       "      <td>1</td>\n",
       "      <td>0</td>\n",
       "      <td>0</td>\n",
       "      <td>1</td>\n",
       "      <td>1</td>\n",
       "      <td>0</td>\n",
       "      <td>1</td>\n",
       "      <td>0</td>\n",
       "      <td>1</td>\n",
       "      <td>0</td>\n",
       "      <td>1</td>\n",
       "      <td>0</td>\n",
       "      <td>0</td>\n",
       "      <td>0</td>\n",
       "      <td>0</td>\n",
       "      <td>0</td>\n",
       "      <td>1</td>\n",
       "      <td>0</td>\n",
       "      <td>0</td>\n",
       "      <td>0</td>\n",
       "      <td>0</td>\n",
       "      <td>0</td>\n",
       "      <td>0</td>\n",
       "      <td>0</td>\n",
       "      <td>0</td>\n",
       "      <td>1</td>\n",
       "      <td>0</td>\n",
       "      <td>0</td>\n",
       "      <td>0</td>\n",
       "      <td>0</td>\n",
       "      <td>0</td>\n",
       "      <td>0</td>\n",
       "      <td>0</td>\n",
       "      <td>0</td>\n",
       "      <td>0</td>\n",
       "      <td>0</td>\n",
       "      <td>0</td>\n",
       "      <td>2.0</td>\n",
       "      <td>1.383562</td>\n",
       "      <td>0.346535</td>\n",
       "      <td>1.136634</td>\n",
       "      <td>0.746572</td>\n",
       "      <td>117.360000</td>\n",
       "      <td>4.0</td>\n",
       "      <td>6.0</td>\n",
       "      <td>52.0</td>\n",
       "      <td>-0.693516</td>\n",
       "      <td>-0.004916</td>\n",
       "      <td>0.635198</td>\n",
       "      <td>0.212100</td>\n",
       "      <td>-0.371092</td>\n",
       "      <td>1.039230</td>\n",
       "    </tr>\n",
       "    <tr>\n",
       "      <th>2</th>\n",
       "      <td>27.960514</td>\n",
       "      <td>-82.506127</td>\n",
       "      <td>4.0</td>\n",
       "      <td>35</td>\n",
       "      <td>0</td>\n",
       "      <td>0</td>\n",
       "      <td>18</td>\n",
       "      <td>1</td>\n",
       "      <td>1</td>\n",
       "      <td>0</td>\n",
       "      <td>1</td>\n",
       "      <td>0</td>\n",
       "      <td>0</td>\n",
       "      <td>1</td>\n",
       "      <td>0</td>\n",
       "      <td>1</td>\n",
       "      <td>1</td>\n",
       "      <td>0</td>\n",
       "      <td>1</td>\n",
       "      <td>0</td>\n",
       "      <td>0</td>\n",
       "      <td>0</td>\n",
       "      <td>0</td>\n",
       "      <td>0</td>\n",
       "      <td>0</td>\n",
       "      <td>0</td>\n",
       "      <td>0</td>\n",
       "      <td>1</td>\n",
       "      <td>0</td>\n",
       "      <td>0</td>\n",
       "      <td>0</td>\n",
       "      <td>0</td>\n",
       "      <td>0</td>\n",
       "      <td>0</td>\n",
       "      <td>0</td>\n",
       "      <td>0</td>\n",
       "      <td>0</td>\n",
       "      <td>0</td>\n",
       "      <td>0</td>\n",
       "      <td>0</td>\n",
       "      <td>0</td>\n",
       "      <td>0</td>\n",
       "      <td>0</td>\n",
       "      <td>0</td>\n",
       "      <td>0</td>\n",
       "      <td>2.0</td>\n",
       "      <td>4.816438</td>\n",
       "      <td>0.147327</td>\n",
       "      <td>0.127418</td>\n",
       "      <td>0.680449</td>\n",
       "      <td>78.189189</td>\n",
       "      <td>4.0</td>\n",
       "      <td>4.0</td>\n",
       "      <td>57.0</td>\n",
       "      <td>-0.524659</td>\n",
       "      <td>-0.597908</td>\n",
       "      <td>0.618025</td>\n",
       "      <td>0.333430</td>\n",
       "      <td>-0.400298</td>\n",
       "      <td>-1.146068</td>\n",
       "    </tr>\n",
       "  </tbody>\n",
       "</table>\n",
       "</div>"
      ],
      "text/plain": [
       "    latitude  longitude  stars  review_count  is_open  is_chain  \\\n",
       "0  27.955269 -82.456320    4.0            10        1         0   \n",
       "1  28.046203 -82.505053    4.0            23        0         0   \n",
       "2  27.960514 -82.506127    4.0            35        0         0   \n",
       "\n",
       "   Num_of_attributes_shared  RestaurantsPriceRange2  RestaurantsTakeOut_True  \\\n",
       "0                         6                       2                        0   \n",
       "1                        17                       2                        1   \n",
       "2                        18                       1                        1   \n",
       "\n",
       "   RestaurantsTakeOut_False  RestaurantsDelivery_True  \\\n",
       "0                         0                         0   \n",
       "1                         0                         0   \n",
       "2                         0                         1   \n",
       "\n",
       "   RestaurantsDelivery_False  OutdoorSeating_True  OutdoorSeating_False  \\\n",
       "0                          0                    0                     0   \n",
       "1                          1                    1                     0   \n",
       "2                          0                    0                     1   \n",
       "\n",
       "   RestaurantsReservations_True  RestaurantsReservations_False  \\\n",
       "0                             0                              1   \n",
       "1                             1                              0   \n",
       "2                             0                              1   \n",
       "\n",
       "   RestaurantsGoodForGroups_True  RestaurantsGoodForGroups_False  \\\n",
       "0                              0                               0   \n",
       "1                              1                               0   \n",
       "2                              1                               0   \n",
       "\n",
       "   GoodForKids_True  GoodForKids_False  Nightlife  Bars  Sandwiches  \\\n",
       "0                 0                  0          0     0           0   \n",
       "1                 1                  0          0     0           0   \n",
       "2                 1                  0          0     0           0   \n",
       "\n",
       "   American (Traditional)  American (New)  Fast Food  Breakfast & Brunch  \\\n",
       "0                       0               0          0                   0   \n",
       "1                       0               1          0                   0   \n",
       "2                       0               0          0                   0   \n",
       "\n",
       "   Pizza  Burgers  Coffee & Tea  Mexican  Cafes  Seafood  Italian  \\\n",
       "0      0        0             0        0      0        0        0   \n",
       "1      0        0             0        0      0        0        1   \n",
       "2      1        0             0        0      0        0        0   \n",
       "\n",
       "   Chicken Wings  Salad  Event Planning & Services  Latin American  \\\n",
       "0              0      0                          0               0   \n",
       "1              0      0                          0               0   \n",
       "2              0      0                          0               0   \n",
       "\n",
       "   Food Trucks  Specialty Food  Chinese  Delis  Sushi Bars  Desserts  \\\n",
       "0            1               0        0      0           0         0   \n",
       "1            0               0        0      0           0         0   \n",
       "2            0               0        0      0           0         0   \n",
       "\n",
       "   Caterers  repeat_users       age  reviews_per_week  reactions_per_week  \\\n",
       "0         0           1.0  2.641096          0.061257            0.284010   \n",
       "1         0           2.0  1.383562          0.346535            1.136634   \n",
       "2         0           2.0  4.816438          0.147327            0.127418   \n",
       "\n",
       "   sentiment_score  review_length  user_stars  similar_restaurants_density  \\\n",
       "0         0.743791      79.818182         5.0                          5.0   \n",
       "1         0.746572     117.360000         4.0                          6.0   \n",
       "2         0.680449      78.189189         4.0                          4.0   \n",
       "\n",
       "   all_restaurants_density  relative_reviews_count  relative_reviews_per_week  \\\n",
       "0                    171.0               -0.405611                  -0.513680   \n",
       "1                     52.0               -0.693516                  -0.004916   \n",
       "2                     57.0               -0.524659                  -0.597908   \n",
       "\n",
       "   relative_stars  relative_user_stars  relative_repeat_users  relative_price  \n",
       "0        0.402896             1.004273              -0.254448        0.509729  \n",
       "1        0.635198             0.212100              -0.371092        1.039230  \n",
       "2        0.618025             0.333430              -0.400298       -1.146068  "
      ]
     },
     "execution_count": 4,
     "metadata": {},
     "output_type": "execute_result"
    }
   ],
   "source": [
    "# view the data\n",
    "df.head(3)"
   ]
  },
  {
   "cell_type": "code",
   "execution_count": 5,
   "id": "b4f2ff06",
   "metadata": {
    "scrolled": true
   },
   "outputs": [
    {
     "data": {
      "text/plain": [
       "(2881, 60)"
      ]
     },
     "execution_count": 5,
     "metadata": {},
     "output_type": "execute_result"
    }
   ],
   "source": [
    "# check the shape of data\n",
    "df.shape"
   ]
  },
  {
   "cell_type": "code",
   "execution_count": 6,
   "id": "56ae4b0f",
   "metadata": {},
   "outputs": [
    {
     "data": {
      "text/plain": [
       "'is_open'"
      ]
     },
     "execution_count": 6,
     "metadata": {},
     "output_type": "execute_result"
    }
   ],
   "source": [
    "df.columns[4]"
   ]
  },
  {
   "cell_type": "markdown",
   "id": "ca8a2c21",
   "metadata": {},
   "source": [
    "## (Optional) Working with a Sample\n",
    "\n",
    "When working with massive datasets containing millions of rows, it's a good idea to work with a sample initially. If you'd like to work with a sample, just set the value of `use_sample` to `True`."
   ]
  },
  {
   "cell_type": "code",
   "execution_count": 7,
   "id": "7d52a431",
   "metadata": {},
   "outputs": [],
   "source": [
    "use_sample = False"
   ]
  },
  {
   "cell_type": "code",
   "execution_count": 8,
   "id": "dda94cdf",
   "metadata": {},
   "outputs": [],
   "source": [
    "sample_fraction = 0.1"
   ]
  },
  {
   "cell_type": "code",
   "execution_count": 9,
   "id": "dc27d7b4",
   "metadata": {},
   "outputs": [],
   "source": [
    "if use_sample:\n",
    "    df = raw_df.sample(frac=sample_fraction).copy()"
   ]
  },
  {
   "cell_type": "markdown",
   "id": "505052da",
   "metadata": {},
   "source": [
    "## imputing, scaling and encoding"
   ]
  },
  {
   "cell_type": "markdown",
   "id": "9da07278",
   "metadata": {},
   "source": [
    "We now perform imputing, scaling and encoding to prepare the data for the model training. "
   ]
  },
  {
   "cell_type": "code",
   "execution_count": 10,
   "id": "d1e20756",
   "metadata": {},
   "outputs": [],
   "source": [
    "import numpy as np\n",
    "from sklearn.impute import SimpleImputer\n",
    "from sklearn.preprocessing import MinMaxScaler, OneHotEncoder\n",
    "from sklearn.model_selection import train_test_split\n",
    "\n",
    "# Identify input and target columns\n",
    "input_cols, target_col = df.columns[5:-1], df.columns[4]\n",
    "inputs_df, targets = df[input_cols].copy(), df[target_col].copy()\n",
    "\n",
    "# Identify numeric and categorical columns\n",
    "numeric_cols = df[input_cols].select_dtypes(include=np.number).columns.tolist()\n",
    "categorical_cols = df[input_cols].select_dtypes(include='object').columns.tolist()\n",
    "\n",
    "# Impute and scale numeric columns\n",
    "imputer = SimpleImputer().fit(inputs_df[numeric_cols])\n",
    "inputs_df[numeric_cols] = imputer.transform(inputs_df[numeric_cols])\n",
    "scaler = MinMaxScaler().fit(inputs_df[numeric_cols])\n",
    "inputs_df[numeric_cols] = scaler.transform(inputs_df[numeric_cols])\n",
    "\n",
    "# One-hot encode categorical columns\n",
    "encoder = OneHotEncoder(sparse=False, handle_unknown='ignore').fit(inputs_df[categorical_cols])\n",
    "encoded_cols = list(encoder.get_feature_names(categorical_cols))\n",
    "inputs_df[encoded_cols] = encoder.transform(inputs_df[categorical_cols])"
   ]
  },
  {
   "cell_type": "markdown",
   "id": "6e526268",
   "metadata": {},
   "source": [
    "Note that the target column by nature is already imputed, scaled and encoded."
   ]
  },
  {
   "cell_type": "code",
   "execution_count": 11,
   "id": "19fbd5b7",
   "metadata": {},
   "outputs": [],
   "source": [
    "# Create training and validation sets\n",
    "train_val_inputs, test_inputs, train_val_targets, test_targets = train_test_split(\n",
    "    inputs_df[numeric_cols + encoded_cols], targets, test_size=0.2, random_state=42, stratify=targets)\n",
    "train_inputs, val_inputs, train_targets, val_targets = train_test_split(\n",
    "    train_val_inputs[numeric_cols + encoded_cols], train_val_targets, test_size=0.2, random_state=42, stratify=train_val_targets)"
   ]
  },
  {
   "cell_type": "markdown",
   "id": "f2111fc9",
   "metadata": {},
   "source": [
    "Let's check if our training, validation and test sets were succesfully created."
   ]
  },
  {
   "cell_type": "code",
   "execution_count": 12,
   "id": "53cd9606",
   "metadata": {
    "scrolled": true
   },
   "outputs": [
    {
     "name": "stdout",
     "output_type": "stream",
     "text": [
      "train_inputs: (1843, 54)\n",
      "train_targets: (1843,)\n",
      "val_inputs: (461, 54)\n",
      "val_targets: (461,)\n",
      "test_inputs: (577, 54)\n",
      "test_targets: (577,)\n"
     ]
    }
   ],
   "source": [
    "print('train_inputs:', train_inputs.shape)\n",
    "print('train_targets:', train_targets.shape)\n",
    "print('val_inputs:', val_inputs.shape)\n",
    "print('val_targets:', val_targets.shape)\n",
    "print('test_inputs:', test_inputs.shape)\n",
    "print('test_targets:', test_targets.shape)"
   ]
  },
  {
   "cell_type": "code",
   "execution_count": 13,
   "id": "21fb03ff",
   "metadata": {
    "scrolled": true
   },
   "outputs": [
    {
     "data": {
      "text/plain": [
       "1497    1\n",
       "966     0\n",
       "264     1\n",
       "1928    1\n",
       "2195    1\n",
       "       ..\n",
       "2340    1\n",
       "2191    0\n",
       "2761    1\n",
       "2517    1\n",
       "2125    0\n",
       "Name: is_open, Length: 577, dtype: int64"
      ]
     },
     "execution_count": 13,
     "metadata": {},
     "output_type": "execute_result"
    }
   ],
   "source": [
    "test_targets"
   ]
  },
  {
   "cell_type": "code",
   "execution_count": 14,
   "id": "78448eed",
   "metadata": {},
   "outputs": [
    {
     "data": {
      "text/html": [
       "<div>\n",
       "<style scoped>\n",
       "    .dataframe tbody tr th:only-of-type {\n",
       "        vertical-align: middle;\n",
       "    }\n",
       "\n",
       "    .dataframe tbody tr th {\n",
       "        vertical-align: top;\n",
       "    }\n",
       "\n",
       "    .dataframe thead th {\n",
       "        text-align: right;\n",
       "    }\n",
       "</style>\n",
       "<table border=\"1\" class=\"dataframe\">\n",
       "  <thead>\n",
       "    <tr style=\"text-align: right;\">\n",
       "      <th></th>\n",
       "      <th>is_chain</th>\n",
       "      <th>Num_of_attributes_shared</th>\n",
       "      <th>RestaurantsPriceRange2</th>\n",
       "      <th>RestaurantsTakeOut_True</th>\n",
       "      <th>RestaurantsTakeOut_False</th>\n",
       "      <th>RestaurantsDelivery_True</th>\n",
       "      <th>RestaurantsDelivery_False</th>\n",
       "      <th>OutdoorSeating_True</th>\n",
       "      <th>OutdoorSeating_False</th>\n",
       "      <th>RestaurantsReservations_True</th>\n",
       "      <th>RestaurantsReservations_False</th>\n",
       "      <th>RestaurantsGoodForGroups_True</th>\n",
       "      <th>RestaurantsGoodForGroups_False</th>\n",
       "      <th>GoodForKids_True</th>\n",
       "      <th>GoodForKids_False</th>\n",
       "      <th>Nightlife</th>\n",
       "      <th>Bars</th>\n",
       "      <th>Sandwiches</th>\n",
       "      <th>American (Traditional)</th>\n",
       "      <th>American (New)</th>\n",
       "      <th>Fast Food</th>\n",
       "      <th>Breakfast &amp; Brunch</th>\n",
       "      <th>Pizza</th>\n",
       "      <th>Burgers</th>\n",
       "      <th>Coffee &amp; Tea</th>\n",
       "      <th>Mexican</th>\n",
       "      <th>Cafes</th>\n",
       "      <th>Seafood</th>\n",
       "      <th>Italian</th>\n",
       "      <th>Chicken Wings</th>\n",
       "      <th>Salad</th>\n",
       "      <th>Event Planning &amp; Services</th>\n",
       "      <th>Latin American</th>\n",
       "      <th>Food Trucks</th>\n",
       "      <th>Specialty Food</th>\n",
       "      <th>Chinese</th>\n",
       "      <th>Delis</th>\n",
       "      <th>Sushi Bars</th>\n",
       "      <th>Desserts</th>\n",
       "      <th>Caterers</th>\n",
       "      <th>repeat_users</th>\n",
       "      <th>age</th>\n",
       "      <th>reviews_per_week</th>\n",
       "      <th>reactions_per_week</th>\n",
       "      <th>sentiment_score</th>\n",
       "      <th>review_length</th>\n",
       "      <th>user_stars</th>\n",
       "      <th>similar_restaurants_density</th>\n",
       "      <th>all_restaurants_density</th>\n",
       "      <th>relative_reviews_count</th>\n",
       "      <th>relative_reviews_per_week</th>\n",
       "      <th>relative_stars</th>\n",
       "      <th>relative_user_stars</th>\n",
       "      <th>relative_repeat_users</th>\n",
       "    </tr>\n",
       "  </thead>\n",
       "  <tbody>\n",
       "    <tr>\n",
       "      <th>1497</th>\n",
       "      <td>1.0</td>\n",
       "      <td>0.322581</td>\n",
       "      <td>0.333333</td>\n",
       "      <td>1.0</td>\n",
       "      <td>0.0</td>\n",
       "      <td>0.0</td>\n",
       "      <td>1.0</td>\n",
       "      <td>0.0</td>\n",
       "      <td>0.0</td>\n",
       "      <td>0.0</td>\n",
       "      <td>1.0</td>\n",
       "      <td>0.0</td>\n",
       "      <td>1.0</td>\n",
       "      <td>1.0</td>\n",
       "      <td>0.0</td>\n",
       "      <td>0.0</td>\n",
       "      <td>0.0</td>\n",
       "      <td>0.0</td>\n",
       "      <td>0.0</td>\n",
       "      <td>0.0</td>\n",
       "      <td>1.0</td>\n",
       "      <td>0.0</td>\n",
       "      <td>0.0</td>\n",
       "      <td>0.0</td>\n",
       "      <td>0.0</td>\n",
       "      <td>0.0</td>\n",
       "      <td>0.0</td>\n",
       "      <td>1.0</td>\n",
       "      <td>0.0</td>\n",
       "      <td>0.0</td>\n",
       "      <td>0.0</td>\n",
       "      <td>0.0</td>\n",
       "      <td>0.0</td>\n",
       "      <td>0.0</td>\n",
       "      <td>0.0</td>\n",
       "      <td>0.0</td>\n",
       "      <td>0.0</td>\n",
       "      <td>0.0</td>\n",
       "      <td>0.0</td>\n",
       "      <td>0.0</td>\n",
       "      <td>0.000000</td>\n",
       "      <td>0.484367</td>\n",
       "      <td>0.003541</td>\n",
       "      <td>0.002602</td>\n",
       "      <td>0.537377</td>\n",
       "      <td>0.177902</td>\n",
       "      <td>0.50</td>\n",
       "      <td>0.046154</td>\n",
       "      <td>0.074074</td>\n",
       "      <td>0.082869</td>\n",
       "      <td>0.083217</td>\n",
       "      <td>0.476579</td>\n",
       "      <td>0.542312</td>\n",
       "      <td>0.129700</td>\n",
       "    </tr>\n",
       "    <tr>\n",
       "      <th>966</th>\n",
       "      <td>0.0</td>\n",
       "      <td>0.451613</td>\n",
       "      <td>0.333333</td>\n",
       "      <td>1.0</td>\n",
       "      <td>0.0</td>\n",
       "      <td>0.0</td>\n",
       "      <td>1.0</td>\n",
       "      <td>1.0</td>\n",
       "      <td>0.0</td>\n",
       "      <td>1.0</td>\n",
       "      <td>0.0</td>\n",
       "      <td>1.0</td>\n",
       "      <td>0.0</td>\n",
       "      <td>1.0</td>\n",
       "      <td>0.0</td>\n",
       "      <td>0.0</td>\n",
       "      <td>0.0</td>\n",
       "      <td>0.0</td>\n",
       "      <td>1.0</td>\n",
       "      <td>0.0</td>\n",
       "      <td>0.0</td>\n",
       "      <td>0.0</td>\n",
       "      <td>0.0</td>\n",
       "      <td>0.0</td>\n",
       "      <td>0.0</td>\n",
       "      <td>0.0</td>\n",
       "      <td>0.0</td>\n",
       "      <td>0.0</td>\n",
       "      <td>0.0</td>\n",
       "      <td>0.0</td>\n",
       "      <td>0.0</td>\n",
       "      <td>0.0</td>\n",
       "      <td>0.0</td>\n",
       "      <td>0.0</td>\n",
       "      <td>0.0</td>\n",
       "      <td>0.0</td>\n",
       "      <td>0.0</td>\n",
       "      <td>0.0</td>\n",
       "      <td>0.0</td>\n",
       "      <td>0.0</td>\n",
       "      <td>0.000000</td>\n",
       "      <td>0.086942</td>\n",
       "      <td>0.017634</td>\n",
       "      <td>0.006757</td>\n",
       "      <td>0.412130</td>\n",
       "      <td>0.234483</td>\n",
       "      <td>0.50</td>\n",
       "      <td>0.261538</td>\n",
       "      <td>0.444444</td>\n",
       "      <td>0.085126</td>\n",
       "      <td>0.140919</td>\n",
       "      <td>0.464997</td>\n",
       "      <td>0.526718</td>\n",
       "      <td>0.130664</td>\n",
       "    </tr>\n",
       "    <tr>\n",
       "      <th>264</th>\n",
       "      <td>0.0</td>\n",
       "      <td>0.580645</td>\n",
       "      <td>0.333333</td>\n",
       "      <td>1.0</td>\n",
       "      <td>0.0</td>\n",
       "      <td>1.0</td>\n",
       "      <td>0.0</td>\n",
       "      <td>0.0</td>\n",
       "      <td>1.0</td>\n",
       "      <td>1.0</td>\n",
       "      <td>0.0</td>\n",
       "      <td>1.0</td>\n",
       "      <td>0.0</td>\n",
       "      <td>1.0</td>\n",
       "      <td>0.0</td>\n",
       "      <td>0.0</td>\n",
       "      <td>1.0</td>\n",
       "      <td>0.0</td>\n",
       "      <td>0.0</td>\n",
       "      <td>0.0</td>\n",
       "      <td>0.0</td>\n",
       "      <td>0.0</td>\n",
       "      <td>0.0</td>\n",
       "      <td>0.0</td>\n",
       "      <td>0.0</td>\n",
       "      <td>0.0</td>\n",
       "      <td>0.0</td>\n",
       "      <td>0.0</td>\n",
       "      <td>0.0</td>\n",
       "      <td>0.0</td>\n",
       "      <td>0.0</td>\n",
       "      <td>0.0</td>\n",
       "      <td>0.0</td>\n",
       "      <td>0.0</td>\n",
       "      <td>0.0</td>\n",
       "      <td>0.0</td>\n",
       "      <td>0.0</td>\n",
       "      <td>1.0</td>\n",
       "      <td>0.0</td>\n",
       "      <td>0.0</td>\n",
       "      <td>0.094488</td>\n",
       "      <td>0.718107</td>\n",
       "      <td>0.030929</td>\n",
       "      <td>0.009506</td>\n",
       "      <td>0.829894</td>\n",
       "      <td>0.185692</td>\n",
       "      <td>0.75</td>\n",
       "      <td>0.015385</td>\n",
       "      <td>0.086420</td>\n",
       "      <td>0.248143</td>\n",
       "      <td>0.214082</td>\n",
       "      <td>0.711591</td>\n",
       "      <td>0.701939</td>\n",
       "      <td>0.465409</td>\n",
       "    </tr>\n",
       "    <tr>\n",
       "      <th>1928</th>\n",
       "      <td>0.0</td>\n",
       "      <td>0.548387</td>\n",
       "      <td>0.333333</td>\n",
       "      <td>0.0</td>\n",
       "      <td>0.0</td>\n",
       "      <td>0.0</td>\n",
       "      <td>1.0</td>\n",
       "      <td>1.0</td>\n",
       "      <td>0.0</td>\n",
       "      <td>0.0</td>\n",
       "      <td>0.0</td>\n",
       "      <td>1.0</td>\n",
       "      <td>0.0</td>\n",
       "      <td>0.0</td>\n",
       "      <td>0.0</td>\n",
       "      <td>1.0</td>\n",
       "      <td>1.0</td>\n",
       "      <td>0.0</td>\n",
       "      <td>0.0</td>\n",
       "      <td>0.0</td>\n",
       "      <td>0.0</td>\n",
       "      <td>0.0</td>\n",
       "      <td>0.0</td>\n",
       "      <td>0.0</td>\n",
       "      <td>0.0</td>\n",
       "      <td>1.0</td>\n",
       "      <td>0.0</td>\n",
       "      <td>0.0</td>\n",
       "      <td>0.0</td>\n",
       "      <td>0.0</td>\n",
       "      <td>0.0</td>\n",
       "      <td>0.0</td>\n",
       "      <td>0.0</td>\n",
       "      <td>0.0</td>\n",
       "      <td>0.0</td>\n",
       "      <td>0.0</td>\n",
       "      <td>0.0</td>\n",
       "      <td>0.0</td>\n",
       "      <td>0.0</td>\n",
       "      <td>0.0</td>\n",
       "      <td>0.015748</td>\n",
       "      <td>0.071560</td>\n",
       "      <td>0.371745</td>\n",
       "      <td>0.167192</td>\n",
       "      <td>0.855100</td>\n",
       "      <td>0.287189</td>\n",
       "      <td>0.75</td>\n",
       "      <td>0.092308</td>\n",
       "      <td>0.382716</td>\n",
       "      <td>0.203298</td>\n",
       "      <td>0.799880</td>\n",
       "      <td>0.590685</td>\n",
       "      <td>0.692022</td>\n",
       "      <td>0.164574</td>\n",
       "    </tr>\n",
       "    <tr>\n",
       "      <th>2195</th>\n",
       "      <td>0.0</td>\n",
       "      <td>0.774194</td>\n",
       "      <td>0.000000</td>\n",
       "      <td>1.0</td>\n",
       "      <td>0.0</td>\n",
       "      <td>1.0</td>\n",
       "      <td>0.0</td>\n",
       "      <td>0.0</td>\n",
       "      <td>0.0</td>\n",
       "      <td>0.0</td>\n",
       "      <td>1.0</td>\n",
       "      <td>0.0</td>\n",
       "      <td>1.0</td>\n",
       "      <td>1.0</td>\n",
       "      <td>0.0</td>\n",
       "      <td>0.0</td>\n",
       "      <td>0.0</td>\n",
       "      <td>1.0</td>\n",
       "      <td>0.0</td>\n",
       "      <td>0.0</td>\n",
       "      <td>0.0</td>\n",
       "      <td>0.0</td>\n",
       "      <td>0.0</td>\n",
       "      <td>1.0</td>\n",
       "      <td>0.0</td>\n",
       "      <td>0.0</td>\n",
       "      <td>0.0</td>\n",
       "      <td>0.0</td>\n",
       "      <td>0.0</td>\n",
       "      <td>0.0</td>\n",
       "      <td>0.0</td>\n",
       "      <td>0.0</td>\n",
       "      <td>0.0</td>\n",
       "      <td>0.0</td>\n",
       "      <td>0.0</td>\n",
       "      <td>0.0</td>\n",
       "      <td>0.0</td>\n",
       "      <td>0.0</td>\n",
       "      <td>0.0</td>\n",
       "      <td>0.0</td>\n",
       "      <td>0.015748</td>\n",
       "      <td>0.330380</td>\n",
       "      <td>0.119041</td>\n",
       "      <td>0.068972</td>\n",
       "      <td>0.892533</td>\n",
       "      <td>0.157342</td>\n",
       "      <td>1.00</td>\n",
       "      <td>0.046154</td>\n",
       "      <td>0.037037</td>\n",
       "      <td>0.261913</td>\n",
       "      <td>0.383248</td>\n",
       "      <td>0.684604</td>\n",
       "      <td>0.738908</td>\n",
       "      <td>0.147687</td>\n",
       "    </tr>\n",
       "    <tr>\n",
       "      <th>...</th>\n",
       "      <td>...</td>\n",
       "      <td>...</td>\n",
       "      <td>...</td>\n",
       "      <td>...</td>\n",
       "      <td>...</td>\n",
       "      <td>...</td>\n",
       "      <td>...</td>\n",
       "      <td>...</td>\n",
       "      <td>...</td>\n",
       "      <td>...</td>\n",
       "      <td>...</td>\n",
       "      <td>...</td>\n",
       "      <td>...</td>\n",
       "      <td>...</td>\n",
       "      <td>...</td>\n",
       "      <td>...</td>\n",
       "      <td>...</td>\n",
       "      <td>...</td>\n",
       "      <td>...</td>\n",
       "      <td>...</td>\n",
       "      <td>...</td>\n",
       "      <td>...</td>\n",
       "      <td>...</td>\n",
       "      <td>...</td>\n",
       "      <td>...</td>\n",
       "      <td>...</td>\n",
       "      <td>...</td>\n",
       "      <td>...</td>\n",
       "      <td>...</td>\n",
       "      <td>...</td>\n",
       "      <td>...</td>\n",
       "      <td>...</td>\n",
       "      <td>...</td>\n",
       "      <td>...</td>\n",
       "      <td>...</td>\n",
       "      <td>...</td>\n",
       "      <td>...</td>\n",
       "      <td>...</td>\n",
       "      <td>...</td>\n",
       "      <td>...</td>\n",
       "      <td>...</td>\n",
       "      <td>...</td>\n",
       "      <td>...</td>\n",
       "      <td>...</td>\n",
       "      <td>...</td>\n",
       "      <td>...</td>\n",
       "      <td>...</td>\n",
       "      <td>...</td>\n",
       "      <td>...</td>\n",
       "      <td>...</td>\n",
       "      <td>...</td>\n",
       "      <td>...</td>\n",
       "      <td>...</td>\n",
       "      <td>...</td>\n",
       "    </tr>\n",
       "    <tr>\n",
       "      <th>2340</th>\n",
       "      <td>1.0</td>\n",
       "      <td>0.548387</td>\n",
       "      <td>0.000000</td>\n",
       "      <td>1.0</td>\n",
       "      <td>0.0</td>\n",
       "      <td>1.0</td>\n",
       "      <td>0.0</td>\n",
       "      <td>0.0</td>\n",
       "      <td>1.0</td>\n",
       "      <td>0.0</td>\n",
       "      <td>1.0</td>\n",
       "      <td>1.0</td>\n",
       "      <td>0.0</td>\n",
       "      <td>1.0</td>\n",
       "      <td>0.0</td>\n",
       "      <td>0.0</td>\n",
       "      <td>0.0</td>\n",
       "      <td>0.0</td>\n",
       "      <td>1.0</td>\n",
       "      <td>0.0</td>\n",
       "      <td>0.0</td>\n",
       "      <td>1.0</td>\n",
       "      <td>0.0</td>\n",
       "      <td>1.0</td>\n",
       "      <td>0.0</td>\n",
       "      <td>0.0</td>\n",
       "      <td>0.0</td>\n",
       "      <td>0.0</td>\n",
       "      <td>0.0</td>\n",
       "      <td>0.0</td>\n",
       "      <td>1.0</td>\n",
       "      <td>1.0</td>\n",
       "      <td>0.0</td>\n",
       "      <td>0.0</td>\n",
       "      <td>0.0</td>\n",
       "      <td>0.0</td>\n",
       "      <td>0.0</td>\n",
       "      <td>0.0</td>\n",
       "      <td>0.0</td>\n",
       "      <td>0.0</td>\n",
       "      <td>0.007874</td>\n",
       "      <td>0.562615</td>\n",
       "      <td>0.009691</td>\n",
       "      <td>0.000790</td>\n",
       "      <td>0.692702</td>\n",
       "      <td>0.241804</td>\n",
       "      <td>0.50</td>\n",
       "      <td>0.015385</td>\n",
       "      <td>0.255144</td>\n",
       "      <td>0.085258</td>\n",
       "      <td>0.099773</td>\n",
       "      <td>0.476621</td>\n",
       "      <td>0.552571</td>\n",
       "      <td>0.133166</td>\n",
       "    </tr>\n",
       "    <tr>\n",
       "      <th>2191</th>\n",
       "      <td>0.0</td>\n",
       "      <td>0.741935</td>\n",
       "      <td>0.333333</td>\n",
       "      <td>1.0</td>\n",
       "      <td>0.0</td>\n",
       "      <td>1.0</td>\n",
       "      <td>0.0</td>\n",
       "      <td>1.0</td>\n",
       "      <td>0.0</td>\n",
       "      <td>1.0</td>\n",
       "      <td>0.0</td>\n",
       "      <td>1.0</td>\n",
       "      <td>0.0</td>\n",
       "      <td>1.0</td>\n",
       "      <td>0.0</td>\n",
       "      <td>1.0</td>\n",
       "      <td>1.0</td>\n",
       "      <td>0.0</td>\n",
       "      <td>0.0</td>\n",
       "      <td>0.0</td>\n",
       "      <td>0.0</td>\n",
       "      <td>0.0</td>\n",
       "      <td>0.0</td>\n",
       "      <td>0.0</td>\n",
       "      <td>0.0</td>\n",
       "      <td>0.0</td>\n",
       "      <td>0.0</td>\n",
       "      <td>0.0</td>\n",
       "      <td>0.0</td>\n",
       "      <td>0.0</td>\n",
       "      <td>0.0</td>\n",
       "      <td>0.0</td>\n",
       "      <td>0.0</td>\n",
       "      <td>0.0</td>\n",
       "      <td>0.0</td>\n",
       "      <td>0.0</td>\n",
       "      <td>0.0</td>\n",
       "      <td>1.0</td>\n",
       "      <td>0.0</td>\n",
       "      <td>0.0</td>\n",
       "      <td>0.015748</td>\n",
       "      <td>0.159839</td>\n",
       "      <td>0.091519</td>\n",
       "      <td>0.041409</td>\n",
       "      <td>0.818411</td>\n",
       "      <td>0.158442</td>\n",
       "      <td>1.00</td>\n",
       "      <td>0.046154</td>\n",
       "      <td>0.427984</td>\n",
       "      <td>0.103544</td>\n",
       "      <td>0.223957</td>\n",
       "      <td>0.669505</td>\n",
       "      <td>0.810563</td>\n",
       "      <td>0.143998</td>\n",
       "    </tr>\n",
       "    <tr>\n",
       "      <th>2761</th>\n",
       "      <td>0.0</td>\n",
       "      <td>0.709677</td>\n",
       "      <td>0.333333</td>\n",
       "      <td>1.0</td>\n",
       "      <td>0.0</td>\n",
       "      <td>1.0</td>\n",
       "      <td>0.0</td>\n",
       "      <td>0.0</td>\n",
       "      <td>1.0</td>\n",
       "      <td>1.0</td>\n",
       "      <td>0.0</td>\n",
       "      <td>1.0</td>\n",
       "      <td>0.0</td>\n",
       "      <td>1.0</td>\n",
       "      <td>0.0</td>\n",
       "      <td>0.0</td>\n",
       "      <td>0.0</td>\n",
       "      <td>0.0</td>\n",
       "      <td>0.0</td>\n",
       "      <td>0.0</td>\n",
       "      <td>0.0</td>\n",
       "      <td>0.0</td>\n",
       "      <td>0.0</td>\n",
       "      <td>0.0</td>\n",
       "      <td>0.0</td>\n",
       "      <td>0.0</td>\n",
       "      <td>0.0</td>\n",
       "      <td>0.0</td>\n",
       "      <td>0.0</td>\n",
       "      <td>0.0</td>\n",
       "      <td>0.0</td>\n",
       "      <td>0.0</td>\n",
       "      <td>0.0</td>\n",
       "      <td>0.0</td>\n",
       "      <td>0.0</td>\n",
       "      <td>0.0</td>\n",
       "      <td>0.0</td>\n",
       "      <td>0.0</td>\n",
       "      <td>0.0</td>\n",
       "      <td>0.0</td>\n",
       "      <td>0.031496</td>\n",
       "      <td>0.238422</td>\n",
       "      <td>0.058227</td>\n",
       "      <td>0.021880</td>\n",
       "      <td>0.923368</td>\n",
       "      <td>0.135244</td>\n",
       "      <td>1.00</td>\n",
       "      <td>0.030769</td>\n",
       "      <td>0.032922</td>\n",
       "      <td>0.101840</td>\n",
       "      <td>0.203744</td>\n",
       "      <td>0.749993</td>\n",
       "      <td>0.784709</td>\n",
       "      <td>0.136382</td>\n",
       "    </tr>\n",
       "    <tr>\n",
       "      <th>2517</th>\n",
       "      <td>0.0</td>\n",
       "      <td>0.580645</td>\n",
       "      <td>0.333333</td>\n",
       "      <td>1.0</td>\n",
       "      <td>0.0</td>\n",
       "      <td>1.0</td>\n",
       "      <td>0.0</td>\n",
       "      <td>0.0</td>\n",
       "      <td>1.0</td>\n",
       "      <td>1.0</td>\n",
       "      <td>0.0</td>\n",
       "      <td>1.0</td>\n",
       "      <td>0.0</td>\n",
       "      <td>1.0</td>\n",
       "      <td>0.0</td>\n",
       "      <td>0.0</td>\n",
       "      <td>1.0</td>\n",
       "      <td>0.0</td>\n",
       "      <td>0.0</td>\n",
       "      <td>0.0</td>\n",
       "      <td>0.0</td>\n",
       "      <td>0.0</td>\n",
       "      <td>0.0</td>\n",
       "      <td>0.0</td>\n",
       "      <td>0.0</td>\n",
       "      <td>0.0</td>\n",
       "      <td>0.0</td>\n",
       "      <td>0.0</td>\n",
       "      <td>0.0</td>\n",
       "      <td>0.0</td>\n",
       "      <td>0.0</td>\n",
       "      <td>0.0</td>\n",
       "      <td>0.0</td>\n",
       "      <td>0.0</td>\n",
       "      <td>0.0</td>\n",
       "      <td>0.0</td>\n",
       "      <td>0.0</td>\n",
       "      <td>1.0</td>\n",
       "      <td>0.0</td>\n",
       "      <td>0.0</td>\n",
       "      <td>0.055118</td>\n",
       "      <td>0.205651</td>\n",
       "      <td>0.088493</td>\n",
       "      <td>0.046615</td>\n",
       "      <td>0.811653</td>\n",
       "      <td>0.226058</td>\n",
       "      <td>1.00</td>\n",
       "      <td>0.061538</td>\n",
       "      <td>0.312757</td>\n",
       "      <td>0.155035</td>\n",
       "      <td>0.227537</td>\n",
       "      <td>0.663134</td>\n",
       "      <td>0.819766</td>\n",
       "      <td>0.221453</td>\n",
       "    </tr>\n",
       "    <tr>\n",
       "      <th>2125</th>\n",
       "      <td>1.0</td>\n",
       "      <td>0.548387</td>\n",
       "      <td>0.333333</td>\n",
       "      <td>1.0</td>\n",
       "      <td>0.0</td>\n",
       "      <td>0.0</td>\n",
       "      <td>1.0</td>\n",
       "      <td>0.0</td>\n",
       "      <td>1.0</td>\n",
       "      <td>1.0</td>\n",
       "      <td>0.0</td>\n",
       "      <td>1.0</td>\n",
       "      <td>0.0</td>\n",
       "      <td>1.0</td>\n",
       "      <td>0.0</td>\n",
       "      <td>0.0</td>\n",
       "      <td>0.0</td>\n",
       "      <td>0.0</td>\n",
       "      <td>0.0</td>\n",
       "      <td>0.0</td>\n",
       "      <td>0.0</td>\n",
       "      <td>0.0</td>\n",
       "      <td>0.0</td>\n",
       "      <td>0.0</td>\n",
       "      <td>0.0</td>\n",
       "      <td>0.0</td>\n",
       "      <td>0.0</td>\n",
       "      <td>0.0</td>\n",
       "      <td>1.0</td>\n",
       "      <td>0.0</td>\n",
       "      <td>0.0</td>\n",
       "      <td>0.0</td>\n",
       "      <td>0.0</td>\n",
       "      <td>0.0</td>\n",
       "      <td>0.0</td>\n",
       "      <td>0.0</td>\n",
       "      <td>0.0</td>\n",
       "      <td>0.0</td>\n",
       "      <td>0.0</td>\n",
       "      <td>0.0</td>\n",
       "      <td>0.007874</td>\n",
       "      <td>0.601070</td>\n",
       "      <td>0.010466</td>\n",
       "      <td>0.001161</td>\n",
       "      <td>0.724857</td>\n",
       "      <td>0.226714</td>\n",
       "      <td>0.50</td>\n",
       "      <td>0.061538</td>\n",
       "      <td>0.193416</td>\n",
       "      <td>0.079305</td>\n",
       "      <td>0.095175</td>\n",
       "      <td>0.498501</td>\n",
       "      <td>0.571264</td>\n",
       "      <td>0.115051</td>\n",
       "    </tr>\n",
       "  </tbody>\n",
       "</table>\n",
       "<p>577 rows × 54 columns</p>\n",
       "</div>"
      ],
      "text/plain": [
       "      is_chain  Num_of_attributes_shared  RestaurantsPriceRange2  \\\n",
       "1497       1.0                  0.322581                0.333333   \n",
       "966        0.0                  0.451613                0.333333   \n",
       "264        0.0                  0.580645                0.333333   \n",
       "1928       0.0                  0.548387                0.333333   \n",
       "2195       0.0                  0.774194                0.000000   \n",
       "...        ...                       ...                     ...   \n",
       "2340       1.0                  0.548387                0.000000   \n",
       "2191       0.0                  0.741935                0.333333   \n",
       "2761       0.0                  0.709677                0.333333   \n",
       "2517       0.0                  0.580645                0.333333   \n",
       "2125       1.0                  0.548387                0.333333   \n",
       "\n",
       "      RestaurantsTakeOut_True  RestaurantsTakeOut_False  \\\n",
       "1497                      1.0                       0.0   \n",
       "966                       1.0                       0.0   \n",
       "264                       1.0                       0.0   \n",
       "1928                      0.0                       0.0   \n",
       "2195                      1.0                       0.0   \n",
       "...                       ...                       ...   \n",
       "2340                      1.0                       0.0   \n",
       "2191                      1.0                       0.0   \n",
       "2761                      1.0                       0.0   \n",
       "2517                      1.0                       0.0   \n",
       "2125                      1.0                       0.0   \n",
       "\n",
       "      RestaurantsDelivery_True  RestaurantsDelivery_False  \\\n",
       "1497                       0.0                        1.0   \n",
       "966                        0.0                        1.0   \n",
       "264                        1.0                        0.0   \n",
       "1928                       0.0                        1.0   \n",
       "2195                       1.0                        0.0   \n",
       "...                        ...                        ...   \n",
       "2340                       1.0                        0.0   \n",
       "2191                       1.0                        0.0   \n",
       "2761                       1.0                        0.0   \n",
       "2517                       1.0                        0.0   \n",
       "2125                       0.0                        1.0   \n",
       "\n",
       "      OutdoorSeating_True  OutdoorSeating_False  RestaurantsReservations_True  \\\n",
       "1497                  0.0                   0.0                           0.0   \n",
       "966                   1.0                   0.0                           1.0   \n",
       "264                   0.0                   1.0                           1.0   \n",
       "1928                  1.0                   0.0                           0.0   \n",
       "2195                  0.0                   0.0                           0.0   \n",
       "...                   ...                   ...                           ...   \n",
       "2340                  0.0                   1.0                           0.0   \n",
       "2191                  1.0                   0.0                           1.0   \n",
       "2761                  0.0                   1.0                           1.0   \n",
       "2517                  0.0                   1.0                           1.0   \n",
       "2125                  0.0                   1.0                           1.0   \n",
       "\n",
       "      RestaurantsReservations_False  RestaurantsGoodForGroups_True  \\\n",
       "1497                            1.0                            0.0   \n",
       "966                             0.0                            1.0   \n",
       "264                             0.0                            1.0   \n",
       "1928                            0.0                            1.0   \n",
       "2195                            1.0                            0.0   \n",
       "...                             ...                            ...   \n",
       "2340                            1.0                            1.0   \n",
       "2191                            0.0                            1.0   \n",
       "2761                            0.0                            1.0   \n",
       "2517                            0.0                            1.0   \n",
       "2125                            0.0                            1.0   \n",
       "\n",
       "      RestaurantsGoodForGroups_False  GoodForKids_True  GoodForKids_False  \\\n",
       "1497                             1.0               1.0                0.0   \n",
       "966                              0.0               1.0                0.0   \n",
       "264                              0.0               1.0                0.0   \n",
       "1928                             0.0               0.0                0.0   \n",
       "2195                             1.0               1.0                0.0   \n",
       "...                              ...               ...                ...   \n",
       "2340                             0.0               1.0                0.0   \n",
       "2191                             0.0               1.0                0.0   \n",
       "2761                             0.0               1.0                0.0   \n",
       "2517                             0.0               1.0                0.0   \n",
       "2125                             0.0               1.0                0.0   \n",
       "\n",
       "      Nightlife  Bars  Sandwiches  American (Traditional)  American (New)  \\\n",
       "1497        0.0   0.0         0.0                     0.0             0.0   \n",
       "966         0.0   0.0         0.0                     1.0             0.0   \n",
       "264         0.0   1.0         0.0                     0.0             0.0   \n",
       "1928        1.0   1.0         0.0                     0.0             0.0   \n",
       "2195        0.0   0.0         1.0                     0.0             0.0   \n",
       "...         ...   ...         ...                     ...             ...   \n",
       "2340        0.0   0.0         0.0                     1.0             0.0   \n",
       "2191        1.0   1.0         0.0                     0.0             0.0   \n",
       "2761        0.0   0.0         0.0                     0.0             0.0   \n",
       "2517        0.0   1.0         0.0                     0.0             0.0   \n",
       "2125        0.0   0.0         0.0                     0.0             0.0   \n",
       "\n",
       "      Fast Food  Breakfast & Brunch  Pizza  Burgers  Coffee & Tea  Mexican  \\\n",
       "1497        1.0                 0.0    0.0      0.0           0.0      0.0   \n",
       "966         0.0                 0.0    0.0      0.0           0.0      0.0   \n",
       "264         0.0                 0.0    0.0      0.0           0.0      0.0   \n",
       "1928        0.0                 0.0    0.0      0.0           0.0      1.0   \n",
       "2195        0.0                 0.0    0.0      1.0           0.0      0.0   \n",
       "...         ...                 ...    ...      ...           ...      ...   \n",
       "2340        0.0                 1.0    0.0      1.0           0.0      0.0   \n",
       "2191        0.0                 0.0    0.0      0.0           0.0      0.0   \n",
       "2761        0.0                 0.0    0.0      0.0           0.0      0.0   \n",
       "2517        0.0                 0.0    0.0      0.0           0.0      0.0   \n",
       "2125        0.0                 0.0    0.0      0.0           0.0      0.0   \n",
       "\n",
       "      Cafes  Seafood  Italian  Chicken Wings  Salad  \\\n",
       "1497    0.0      1.0      0.0            0.0    0.0   \n",
       "966     0.0      0.0      0.0            0.0    0.0   \n",
       "264     0.0      0.0      0.0            0.0    0.0   \n",
       "1928    0.0      0.0      0.0            0.0    0.0   \n",
       "2195    0.0      0.0      0.0            0.0    0.0   \n",
       "...     ...      ...      ...            ...    ...   \n",
       "2340    0.0      0.0      0.0            0.0    1.0   \n",
       "2191    0.0      0.0      0.0            0.0    0.0   \n",
       "2761    0.0      0.0      0.0            0.0    0.0   \n",
       "2517    0.0      0.0      0.0            0.0    0.0   \n",
       "2125    0.0      0.0      1.0            0.0    0.0   \n",
       "\n",
       "      Event Planning & Services  Latin American  Food Trucks  Specialty Food  \\\n",
       "1497                        0.0             0.0          0.0             0.0   \n",
       "966                         0.0             0.0          0.0             0.0   \n",
       "264                         0.0             0.0          0.0             0.0   \n",
       "1928                        0.0             0.0          0.0             0.0   \n",
       "2195                        0.0             0.0          0.0             0.0   \n",
       "...                         ...             ...          ...             ...   \n",
       "2340                        1.0             0.0          0.0             0.0   \n",
       "2191                        0.0             0.0          0.0             0.0   \n",
       "2761                        0.0             0.0          0.0             0.0   \n",
       "2517                        0.0             0.0          0.0             0.0   \n",
       "2125                        0.0             0.0          0.0             0.0   \n",
       "\n",
       "      Chinese  Delis  Sushi Bars  Desserts  Caterers  repeat_users       age  \\\n",
       "1497      0.0    0.0         0.0       0.0       0.0      0.000000  0.484367   \n",
       "966       0.0    0.0         0.0       0.0       0.0      0.000000  0.086942   \n",
       "264       0.0    0.0         1.0       0.0       0.0      0.094488  0.718107   \n",
       "1928      0.0    0.0         0.0       0.0       0.0      0.015748  0.071560   \n",
       "2195      0.0    0.0         0.0       0.0       0.0      0.015748  0.330380   \n",
       "...       ...    ...         ...       ...       ...           ...       ...   \n",
       "2340      0.0    0.0         0.0       0.0       0.0      0.007874  0.562615   \n",
       "2191      0.0    0.0         1.0       0.0       0.0      0.015748  0.159839   \n",
       "2761      0.0    0.0         0.0       0.0       0.0      0.031496  0.238422   \n",
       "2517      0.0    0.0         1.0       0.0       0.0      0.055118  0.205651   \n",
       "2125      0.0    0.0         0.0       0.0       0.0      0.007874  0.601070   \n",
       "\n",
       "      reviews_per_week  reactions_per_week  sentiment_score  review_length  \\\n",
       "1497          0.003541            0.002602         0.537377       0.177902   \n",
       "966           0.017634            0.006757         0.412130       0.234483   \n",
       "264           0.030929            0.009506         0.829894       0.185692   \n",
       "1928          0.371745            0.167192         0.855100       0.287189   \n",
       "2195          0.119041            0.068972         0.892533       0.157342   \n",
       "...                ...                 ...              ...            ...   \n",
       "2340          0.009691            0.000790         0.692702       0.241804   \n",
       "2191          0.091519            0.041409         0.818411       0.158442   \n",
       "2761          0.058227            0.021880         0.923368       0.135244   \n",
       "2517          0.088493            0.046615         0.811653       0.226058   \n",
       "2125          0.010466            0.001161         0.724857       0.226714   \n",
       "\n",
       "      user_stars  similar_restaurants_density  all_restaurants_density  \\\n",
       "1497        0.50                     0.046154                 0.074074   \n",
       "966         0.50                     0.261538                 0.444444   \n",
       "264         0.75                     0.015385                 0.086420   \n",
       "1928        0.75                     0.092308                 0.382716   \n",
       "2195        1.00                     0.046154                 0.037037   \n",
       "...          ...                          ...                      ...   \n",
       "2340        0.50                     0.015385                 0.255144   \n",
       "2191        1.00                     0.046154                 0.427984   \n",
       "2761        1.00                     0.030769                 0.032922   \n",
       "2517        1.00                     0.061538                 0.312757   \n",
       "2125        0.50                     0.061538                 0.193416   \n",
       "\n",
       "      relative_reviews_count  relative_reviews_per_week  relative_stars  \\\n",
       "1497                0.082869                   0.083217        0.476579   \n",
       "966                 0.085126                   0.140919        0.464997   \n",
       "264                 0.248143                   0.214082        0.711591   \n",
       "1928                0.203298                   0.799880        0.590685   \n",
       "2195                0.261913                   0.383248        0.684604   \n",
       "...                      ...                        ...             ...   \n",
       "2340                0.085258                   0.099773        0.476621   \n",
       "2191                0.103544                   0.223957        0.669505   \n",
       "2761                0.101840                   0.203744        0.749993   \n",
       "2517                0.155035                   0.227537        0.663134   \n",
       "2125                0.079305                   0.095175        0.498501   \n",
       "\n",
       "      relative_user_stars  relative_repeat_users  \n",
       "1497             0.542312               0.129700  \n",
       "966              0.526718               0.130664  \n",
       "264              0.701939               0.465409  \n",
       "1928             0.692022               0.164574  \n",
       "2195             0.738908               0.147687  \n",
       "...                   ...                    ...  \n",
       "2340             0.552571               0.133166  \n",
       "2191             0.810563               0.143998  \n",
       "2761             0.784709               0.136382  \n",
       "2517             0.819766               0.221453  \n",
       "2125             0.571264               0.115051  \n",
       "\n",
       "[577 rows x 54 columns]"
      ]
     },
     "execution_count": 14,
     "metadata": {},
     "output_type": "execute_result"
    }
   ],
   "source": [
    "test_inputs"
   ]
  },
  {
   "cell_type": "markdown",
   "id": "a22a7c51",
   "metadata": {},
   "source": [
    "We have finished data preparation and processing and can now train a model on this data."
   ]
  },
  {
   "cell_type": "markdown",
   "id": "779073fe",
   "metadata": {},
   "source": [
    "## Saving Processed Data to Disk\n",
    "\n",
    "It can be useful to save processed data to disk, especially for really large datasets, to avoid repeating the preprocessing steps every time you start the Jupyter notebook. The parquet format is a fast and efficient format for saving and loading Pandas dataframes."
   ]
  },
  {
   "cell_type": "code",
   "execution_count": 15,
   "id": "a410445f",
   "metadata": {},
   "outputs": [
    {
     "name": "stdout",
     "output_type": "stream",
     "text": [
      "train_inputs: (1843, 54)\n",
      "train_targets: (1843,)\n",
      "val_inputs: (461, 54)\n",
      "val_targets: (461,)\n",
      "test_inputs: (577, 54)\n",
      "test_targets: (577,)\n"
     ]
    }
   ],
   "source": [
    "print('train_inputs:', train_inputs.shape)\n",
    "print('train_targets:', train_targets.shape)\n",
    "print('val_inputs:', val_inputs.shape)\n",
    "print('val_targets:', val_targets.shape)\n",
    "print('test_inputs:', test_inputs.shape)\n",
    "print('test_targets:', test_targets.shape)"
   ]
  },
  {
   "cell_type": "code",
   "execution_count": 16,
   "id": "f2f6400e",
   "metadata": {},
   "outputs": [],
   "source": [
    "train_inputs.to_parquet('train_inputs.parquet')\n",
    "val_inputs.to_parquet('val_inputs.parquet')\n",
    "test_inputs.to_parquet('test_inputs.parquet')"
   ]
  },
  {
   "cell_type": "code",
   "execution_count": 17,
   "id": "a95b35a0",
   "metadata": {},
   "outputs": [
    {
     "name": "stdout",
     "output_type": "stream",
     "text": [
      "Wall time: 2.58 ms\n"
     ]
    }
   ],
   "source": [
    "%%time\n",
    "pd.DataFrame(train_targets).to_parquet('train_targets.parquet')\n",
    "pd.DataFrame(val_targets).to_parquet('val_targets.parquet')\n",
    "pd.DataFrame(test_targets).to_parquet('test_targets.parquet')"
   ]
  },
  {
   "cell_type": "code",
   "execution_count": 18,
   "id": "f0587c0b",
   "metadata": {},
   "outputs": [],
   "source": [
    "# add working with sample here "
   ]
  },
  {
   "cell_type": "markdown",
   "id": "69ef95bb",
   "metadata": {},
   "source": [
    "## (Optional) Working with a Sample\n",
    "\n",
    "When working with massive datasets containing millions of rows, it's a good idea to work with a sample initially. If you'd like to work with a sample, just set the value of `use_sample` to `True`."
   ]
  },
  {
   "cell_type": "code",
   "execution_count": 19,
   "id": "f32b0a07",
   "metadata": {},
   "outputs": [],
   "source": [
    "use_sample = False"
   ]
  },
  {
   "cell_type": "code",
   "execution_count": 20,
   "id": "9ed491e2",
   "metadata": {},
   "outputs": [],
   "source": [
    "sample_fraction = 0.1"
   ]
  },
  {
   "cell_type": "code",
   "execution_count": 21,
   "id": "a166ab9c",
   "metadata": {},
   "outputs": [],
   "source": [
    "if use_sample:\n",
    "    raw_df = raw_df.sample(frac=sample_fraction).copy()"
   ]
  },
  {
   "cell_type": "markdown",
   "id": "8fa3d24d",
   "metadata": {},
   "source": [
    "Make sure to set `use_sample` to `False` and re-run the notebook end-to-end once you're ready to use the entire dataset."
   ]
  },
  {
   "cell_type": "markdown",
   "id": "71473e8f",
   "metadata": {},
   "source": [
    "# Log reg sklearn"
   ]
  },
  {
   "cell_type": "markdown",
   "id": "da0342a0",
   "metadata": {},
   "source": [
    "## Training a Logistic Regression Model\n",
    "\n",
    "Logistic regression is a commonly used technique for solving binary classification problems. In a logistic regression model: \n",
    "\n",
    "- we take linear combination (or weighted sum of the input features) \n",
    "- we apply the sigmoid function to the result to obtain a number between 0 and 1\n",
    "- this number represents the probability of the input being classified as \"Yes\"\n",
    "- instead of RMSE, the cross entropy loss function is used to evaluate the results\n",
    "\n",
    "\n",
    "Here's a visual summary of how a logistic regression model is structured ([source](http://datahacker.rs/005-pytorch-logistic-regression-in-pytorch/)):\n",
    "\n",
    "\n",
    "<img src=\"https://i.imgur.com/YMaMo5D.png\" width=\"480\">\n",
    "\n",
    "The sigmoid function applied to the linear combination of inputs has the following formula:\n",
    "\n",
    "<img src=\"https://i.imgur.com/sAVwvZP.png\" width=\"400\">\n",
    "\n",
    "To train a logistic regression model, we can use the `LogisticRegression` class from Scikit-learn."
   ]
  },
  {
   "cell_type": "code",
   "execution_count": 22,
   "id": "dc588f4d",
   "metadata": {},
   "outputs": [],
   "source": [
    "from sklearn.linear_model import LogisticRegression"
   ]
  },
  {
   "cell_type": "code",
   "execution_count": 23,
   "id": "adc9ef15",
   "metadata": {},
   "outputs": [],
   "source": [
    "model = LogisticRegression(solver='liblinear')"
   ]
  },
  {
   "cell_type": "code",
   "execution_count": 24,
   "id": "50d1f0a7",
   "metadata": {},
   "outputs": [
    {
     "data": {
      "text/plain": [
       "LogisticRegression(solver='liblinear')"
      ]
     },
     "execution_count": 24,
     "metadata": {},
     "output_type": "execute_result"
    }
   ],
   "source": [
    "model.fit(train_inputs[numeric_cols + encoded_cols], train_targets)"
   ]
  },
  {
   "cell_type": "markdown",
   "id": "f15aea3e",
   "metadata": {},
   "source": [
    "`model.fit` uses the following workflow for training the model ([source](https://www.deepnetts.com/blog/from-basic-machine-learning-to-deep-learning-in-5-minutes.html)):\n",
    "\n",
    "1. We initialize a model with random parameters (weights & biases).\n",
    "2. We pass some inputs into the model to obtain predictions.\n",
    "3. We compare the model's predictions with the actual targets using the loss function.  \n",
    "4. We use an optimization technique (like least squares, gradient descent etc.) to reduce the loss by adjusting the weights & biases of the model\n",
    "5. We repeat steps 1 to 4 till the predictions from the model are good enough.\n",
    "\n",
    "\n",
    "<img src=\"https://www.deepnetts.com/blog/wp-content/uploads/2019/02/SupervisedLearning.png\" width=\"480\">\n",
    "\n",
    "For a mathematical discussion of logistic regression, sigmoid activation and cross entropy, check out [this YouTube playlist](https://www.youtube.com/watch?v=-la3q9d7AKQ&list=PLNeKWBMsAzboR8vvhnlanxCNr2V7ITuxy&index=1). Logistic regression can also be applied to multi-class classification problems, with a few modifications."
   ]
  },
  {
   "cell_type": "markdown",
   "id": "5bbf6876",
   "metadata": {},
   "source": [
    "Let's check the weights and biases of the trained model."
   ]
  },
  {
   "cell_type": "code",
   "execution_count": 25,
   "id": "6dd56d6a",
   "metadata": {},
   "outputs": [
    {
     "name": "stdout",
     "output_type": "stream",
     "text": [
      "[[0.651074263848758, 1.1367749643741265, 0.24293358865880432, -0.33770355407265656, 0.48918730101945324, 1.2638524593504823, 0.00024645768524667944, -0.9958841562253464, -0.9599086916316297, -0.6582211822648598, -0.22909885737179528, -0.980344613459938, -0.12201829895125585, -1.3165343520048236, -1.0369147355876767, -0.15253994474501661, 0.4711762379374145, -0.1469206995561057, -0.10981334518290442, 0.544079558242897, 0.5737243932336269, 0.6640629475998704, -0.33610161328670424, 0.4583144756785444, 0.11392597101518424, 0.29662187890719055, -0.014136500083484136, -0.12471885915992274, 0.4870842591262585, 0.5334287922311097, 0.27140521952384494, 0.5482476454562883, 0.2912100112021763, 0.6862260355769063, -0.27911501689804885, 0.7701687607475676, 0.24207651579633313, -0.24451822356961495, 0.39239509623651503, -0.5267813733141746, 0.5648727783669382, 4.227992310057902, 1.3430842766653919, 0.7237329277933195, -1.8058255362245084, -2.6321717106970004, 0.6438329581072558, -0.29668408580214733, -0.5879657623805218, 2.2860471228765844, 0.9594549181160782, 0.8985614960351714, 0.6745339924232405, 0.20675417552443154]]\n"
     ]
    }
   ],
   "source": [
    "print(model.coef_.tolist())"
   ]
  },
  {
   "cell_type": "code",
   "execution_count": 26,
   "id": "2725169f",
   "metadata": {},
   "outputs": [
    {
     "name": "stdout",
     "output_type": "stream",
     "text": [
      "[0.39037594]\n"
     ]
    }
   ],
   "source": [
    "print(model.intercept_)"
   ]
  },
  {
   "cell_type": "markdown",
   "id": "186bd21f",
   "metadata": {},
   "source": [
    "Each weight is applied to the value in a specific column of the input. Higher the weight, greater the impact of the column on the prediction."
   ]
  },
  {
   "cell_type": "code",
   "execution_count": 27,
   "id": "f15b7cf9",
   "metadata": {},
   "outputs": [
    {
     "data": {
      "text/html": [
       "<div>\n",
       "<style scoped>\n",
       "    .dataframe tbody tr th:only-of-type {\n",
       "        vertical-align: middle;\n",
       "    }\n",
       "\n",
       "    .dataframe tbody tr th {\n",
       "        vertical-align: top;\n",
       "    }\n",
       "\n",
       "    .dataframe thead th {\n",
       "        text-align: right;\n",
       "    }\n",
       "</style>\n",
       "<table border=\"1\" class=\"dataframe\">\n",
       "  <thead>\n",
       "    <tr style=\"text-align: right;\">\n",
       "      <th></th>\n",
       "      <th>Predicted Closed</th>\n",
       "      <th>Predicted Open</th>\n",
       "    </tr>\n",
       "  </thead>\n",
       "  <tbody>\n",
       "    <tr>\n",
       "      <th>True Closed</th>\n",
       "      <td>128</td>\n",
       "      <td>69</td>\n",
       "    </tr>\n",
       "    <tr>\n",
       "      <th>True Open</th>\n",
       "      <td>41</td>\n",
       "      <td>339</td>\n",
       "    </tr>\n",
       "  </tbody>\n",
       "</table>\n",
       "</div>"
      ],
      "text/plain": [
       "             Predicted Closed  Predicted Open\n",
       "True Closed               128              69\n",
       "True Open                  41             339"
      ]
     },
     "metadata": {},
     "output_type": "display_data"
    }
   ],
   "source": [
    "# Get class predictions\n",
    "y_pred = model.predict(test_inputs)\n",
    "\n",
    "# Generate confusion matrix\n",
    "cf_matrix = confusion_matrix(test_targets, y_pred)\n",
    "\n",
    "# label rows and columns\n",
    "cf_df = pd.DataFrame(\n",
    "    cf_matrix, \n",
    "    columns=[\"Predicted Closed\", \"Predicted Open\"],\n",
    "    index=[\"True Closed\", \"True Open\"]\n",
    ")\n",
    "\n",
    "display(cf_df)"
   ]
  },
  {
   "cell_type": "code",
   "execution_count": 28,
   "id": "4e3c4e07",
   "metadata": {},
   "outputs": [
    {
     "data": {
      "text/plain": [
       "<sklearn.metrics._plot.confusion_matrix.ConfusionMatrixDisplay at 0x20490347bb0>"
      ]
     },
     "execution_count": 28,
     "metadata": {},
     "output_type": "execute_result"
    },
    {
     "data": {
      "image/png": "[encoded data removed]",
      "text/plain": [
       "<Figure size 720x432 with 2 Axes>"
      ]
     },
     "metadata": {
      "needs_background": "light"
     },
     "output_type": "display_data"
    }
   ],
   "source": [
    "# the function expects the estimator, inputs and target as parameters\n",
    "plot_confusion_matrix(model, test_inputs, test_targets)"
   ]
  },
  {
   "cell_type": "markdown",
   "id": "58f0c25e",
   "metadata": {},
   "source": [
    "Our model predicted the following:\n",
    "- **True Negative:** 128, this represents the number of restaurants predicted by the model to be closed, which were actually closed and hence, satisfactory.\n",
    "- **True Positive:** 339, this number is the number of restaurants predicted as open and are actually open.\n",
    "- **False Negative:** 41, this gives the number of restaurants that were predicted to be closed but were actually open giving  a false closed.\n",
    "- **False Positive:** 60, these are the number of restaurants predicted as open but were actually closed giving  a false open.\n",
    "\n",
    "Comparatively, there is a higher number of False Positives in our data which wrongly classifies closed restaurant as open."
   ]
  },
  {
   "cell_type": "markdown",
   "id": "c3896d27",
   "metadata": {},
   "source": [
    "## Making Predictions and Evaluating the Model\n",
    "\n",
    "We can now use the trained model to make predictions on the training, test "
   ]
  },
  {
   "cell_type": "code",
   "execution_count": 29,
   "id": "87885ecf",
   "metadata": {},
   "outputs": [],
   "source": [
    "X_train = train_inputs[numeric_cols + encoded_cols]\n",
    "X_val = val_inputs[numeric_cols + encoded_cols]\n",
    "X_test = test_inputs[numeric_cols + encoded_cols]"
   ]
  },
  {
   "cell_type": "code",
   "execution_count": 30,
   "id": "3d20f124",
   "metadata": {},
   "outputs": [],
   "source": [
    "train_preds = model.predict(X_train)"
   ]
  },
  {
   "cell_type": "code",
   "execution_count": 31,
   "id": "77947251",
   "metadata": {},
   "outputs": [
    {
     "data": {
      "text/plain": [
       "array([1, 1, 1, ..., 1, 0, 1], dtype=int64)"
      ]
     },
     "execution_count": 31,
     "metadata": {},
     "output_type": "execute_result"
    }
   ],
   "source": [
    "train_preds"
   ]
  },
  {
   "cell_type": "code",
   "execution_count": 32,
   "id": "862b780b",
   "metadata": {},
   "outputs": [
    {
     "data": {
      "text/plain": [
       "2595    1\n",
       "2342    1\n",
       "1348    1\n",
       "133     1\n",
       "2038    1\n",
       "       ..\n",
       "259     1\n",
       "1456    1\n",
       "1187    1\n",
       "2401    1\n",
       "2602    0\n",
       "Name: is_open, Length: 1843, dtype: int64"
      ]
     },
     "execution_count": 32,
     "metadata": {},
     "output_type": "execute_result"
    }
   ],
   "source": [
    "train_targets"
   ]
  },
  {
   "cell_type": "markdown",
   "id": "622c6f6f",
   "metadata": {},
   "source": [
    "We can output a probabilistic prediction using `predict_proba`."
   ]
  },
  {
   "cell_type": "code",
   "execution_count": 33,
   "id": "a481ef9e",
   "metadata": {},
   "outputs": [
    {
     "data": {
      "text/plain": [
       "array([[0.05170424, 0.94829576],\n",
       "       [0.0595634 , 0.9404366 ],\n",
       "       [0.00821853, 0.99178147],\n",
       "       ...,\n",
       "       [0.15052205, 0.84947795],\n",
       "       [0.53894807, 0.46105193],\n",
       "       [0.28125972, 0.71874028]])"
      ]
     },
     "execution_count": 33,
     "metadata": {},
     "output_type": "execute_result"
    }
   ],
   "source": [
    "train_probs = model.predict_proba(X_train)\n",
    "train_probs"
   ]
  },
  {
   "cell_type": "markdown",
   "id": "3942215d",
   "metadata": {},
   "source": [
    "The numbers above indicate the probabilities for the target classes \"No\" and \"Yes\"."
   ]
  },
  {
   "cell_type": "markdown",
   "id": "c35ffb2f",
   "metadata": {},
   "source": [
    "We can test the accuracy of the model's predictions by computing the percentage of matching values in `train_preds` and `train_targets`.\n",
    "\n",
    "This can be done using the `accuracy_score` function from `sklearn.metrics`."
   ]
  },
  {
   "cell_type": "code",
   "execution_count": 34,
   "id": "2b950425",
   "metadata": {},
   "outputs": [],
   "source": [
    "from sklearn.metrics import accuracy_score"
   ]
  },
  {
   "cell_type": "code",
   "execution_count": 35,
   "id": "07a4aeb1",
   "metadata": {},
   "outputs": [
    {
     "data": {
      "text/plain": [
       "0.8187737384698861"
      ]
     },
     "execution_count": 35,
     "metadata": {},
     "output_type": "execute_result"
    }
   ],
   "source": [
    "accuracy_score(train_targets, train_preds)"
   ]
  },
  {
   "cell_type": "markdown",
   "id": "7350f7aa",
   "metadata": {},
   "source": [
    "The model achieves an accuracy of 81.8% on the training set. We can visualize the breakdown of correctly and incorrectly classified inputs using a confusion matrix.\n",
    "\n",
    "<img src=\"https://i.imgur.com/UM28BCN.png\" width=\"480\">"
   ]
  },
  {
   "cell_type": "code",
   "execution_count": 36,
   "id": "cc9ae8d5",
   "metadata": {},
   "outputs": [],
   "source": [
    "from sklearn.metrics import confusion_matrix"
   ]
  },
  {
   "cell_type": "code",
   "execution_count": 37,
   "id": "b7b17d34",
   "metadata": {},
   "outputs": [
    {
     "data": {
      "text/plain": [
       "array([[0.64126984, 0.35873016],\n",
       "       [0.08903545, 0.91096455]])"
      ]
     },
     "execution_count": 37,
     "metadata": {},
     "output_type": "execute_result"
    }
   ],
   "source": [
    "confusion_matrix(train_targets, train_preds, normalize='true')"
   ]
  },
  {
   "cell_type": "markdown",
   "id": "3d7df13f",
   "metadata": {},
   "source": [
    "Let's define a helper function to generate predictions, compute the accuracy score and plot a confusion matrix for a given set of inputs."
   ]
  },
  {
   "cell_type": "code",
   "execution_count": 38,
   "id": "4777b931",
   "metadata": {},
   "outputs": [],
   "source": [
    "def predict_and_plot(inputs, targets, model, name=''):\n",
    "    preds = model.predict(inputs)\n",
    "    \n",
    "    accuracy = accuracy_score(targets, preds)\n",
    "    print(\"Accuracy: {:.2f}%\".format(accuracy * 100))\n",
    "    \n",
    "    cf = confusion_matrix(targets, preds, normalize='true')\n",
    "    plt.figure()\n",
    "    sns.heatmap(cf, annot=True)\n",
    "    plt.xlabel('Prediction')\n",
    "    plt.ylabel('Target')\n",
    "    plt.title('{} Confusion Matrix'.format(name));\n",
    "    \n",
    "    return preds"
   ]
  },
  {
   "cell_type": "code",
   "execution_count": 39,
   "id": "c6e40248",
   "metadata": {},
   "outputs": [
    {
     "name": "stdout",
     "output_type": "stream",
     "text": [
      "Accuracy: 81.88%\n"
     ]
    },
    {
     "data": {
      "image/png": "[encoded data removed]",
      "text/plain": [
       "<Figure size 720x432 with 2 Axes>"
      ]
     },
     "metadata": {
      "needs_background": "light"
     },
     "output_type": "display_data"
    }
   ],
   "source": [
    "train_preds = predict_and_plot(X_train, train_targets, model, 'Training')"
   ]
  },
  {
   "cell_type": "code",
   "execution_count": 40,
   "id": "575bdb04",
   "metadata": {},
   "outputs": [
    {
     "name": "stdout",
     "output_type": "stream",
     "text": [
      "Accuracy: 77.87%\n"
     ]
    },
    {
     "data": {
      "image/png": "[encoded data removed]",
      "text/plain": [
       "<Figure size 720x432 with 2 Axes>"
      ]
     },
     "metadata": {
      "needs_background": "light"
     },
     "output_type": "display_data"
    }
   ],
   "source": [
    "val_preds = predict_and_plot(X_val, val_targets, model, 'Validatiaon')"
   ]
  },
  {
   "cell_type": "code",
   "execution_count": 41,
   "id": "49ea7f9d",
   "metadata": {},
   "outputs": [
    {
     "name": "stdout",
     "output_type": "stream",
     "text": [
      "Accuracy: 80.94%\n"
     ]
    },
    {
     "data": {
      "image/png": "[encoded data removed]",
      "text/plain": [
       "<Figure size 720x432 with 2 Axes>"
      ]
     },
     "metadata": {
      "needs_background": "light"
     },
     "output_type": "display_data"
    }
   ],
   "source": [
    "test_preds = predict_and_plot(X_test, test_targets, model, 'Test')"
   ]
  },
  {
   "cell_type": "markdown",
   "id": "05a641fd",
   "metadata": {},
   "source": [
    "Our model predicted the following on the test set:\n",
    "- **True Negative:** 65%, this represents the percentage of restaurants predicted by the model to be closed, which were actually closed and hence, satisfactory.\n",
    "- **True Positive:** 89%, this number is the percentage of restaurants predicted as open and are actually open.\n",
    "- **False Negative:** 0.11%, this gives the percentage of restaurants that were predicted to be closed but were actually open giving  a false closed.\n",
    "- **False Positive:** 0.35%, these are the percentage of restaurants predicted as open but were actually closed giving  a false open.\n",
    "\n",
    "Comparatively, there is a higher number of False Positives in our data which wrongly classifies closed restaurant as open."
   ]
  },
  {
   "cell_type": "markdown",
   "id": "34eb4a11",
   "metadata": {},
   "source": [
    "The accuracy of the model on the test and validation set are above 75%, which suggests that our model generalizes well to data it hasn't seen before. \n",
    "\n",
    "But how good is 84% accuracy? While this depends on the nature of the problem and on business requirements, a good way to verify whether a model has actually learned something useful is to compare its results to a \"random\" or \"constant\" model.\n",
    "\n",
    "Let's create two models: one that guesses randomly and another that always return \"No\". Both of these models completely ignore the inputs given to them."
   ]
  },
  {
   "cell_type": "code",
   "execution_count": 42,
   "id": "d60f0b29",
   "metadata": {},
   "outputs": [],
   "source": [
    "def random_guess(inputs):\n",
    "    return np.random.choice([0, 1], len(inputs))"
   ]
  },
  {
   "cell_type": "code",
   "execution_count": 43,
   "id": "ff5943df",
   "metadata": {},
   "outputs": [],
   "source": [
    "def all_no(inputs):\n",
    "    return np.full(len(inputs), 0)"
   ]
  },
  {
   "cell_type": "markdown",
   "id": "7576c06f",
   "metadata": {},
   "source": [
    "Let's check the accuracies of these two models on the test set."
   ]
  },
  {
   "cell_type": "code",
   "execution_count": 44,
   "id": "0db0acfd",
   "metadata": {},
   "outputs": [
    {
     "data": {
      "text/plain": [
       "0.5355285961871751"
      ]
     },
     "execution_count": 44,
     "metadata": {},
     "output_type": "execute_result"
    }
   ],
   "source": [
    "accuracy_score(test_targets, random_guess(X_test))"
   ]
  },
  {
   "cell_type": "code",
   "execution_count": 45,
   "id": "4331ddd5",
   "metadata": {},
   "outputs": [
    {
     "data": {
      "text/plain": [
       "0.341421143847487"
      ]
     },
     "execution_count": 45,
     "metadata": {},
     "output_type": "execute_result"
    }
   ],
   "source": [
    "accuracy_score(test_targets, all_no(X_test))"
   ]
  },
  {
   "cell_type": "markdown",
   "id": "d461fc68",
   "metadata": {},
   "source": [
    "Our random model achieves an accuracy of 48% and our \"always No\" model achieves an accuracy of 34%. \n",
    "\n",
    "Our model is better than a \"constant\" or \"random\" model. By comparing agaisnt these baseline models, we now know that our model has learned something useful about the dataset."
   ]
  },
  {
   "cell_type": "markdown",
   "id": "ebe9a14c",
   "metadata": {},
   "source": [
    "## Making Predictions on a Single Input\n",
    "\n",
    "Once the model has been trained to a satisfactory accuracy, it can be used to make predictions on new data. Consider the following dictionary containing data collected from a new hypothetical restaurant."
   ]
  },
  {
   "cell_type": "code",
   "execution_count": 46,
   "id": "0e9a2943",
   "metadata": {},
   "outputs": [],
   "source": [
    "new_input = {'latitude': 28.09236,\n",
    " 'longitude': -82.500588,\n",
    " 'stars': 4.0,\n",
    " 'review_count': 108.0,\n",
    " 'is_open': 1.0,\n",
    " 'is_chain': 0.0,\n",
    " 'Num_of_attributes_shared': 22.0,\n",
    " 'RestaurantsPriceRange2': 2.0,\n",
    " 'RestaurantsTakeOut_True': 1.0,\n",
    " 'RestaurantsTakeOut_False': 0.0,\n",
    " 'RestaurantsDelivery_True': 0.0,\n",
    " 'RestaurantsDelivery_False': 1.0,\n",
    " 'OutdoorSeating_True': 1.0,\n",
    " 'OutdoorSeating_False': 0.0,\n",
    " 'RestaurantsReservations_True': 0.0,\n",
    " 'RestaurantsReservations_False': 1.0,\n",
    " 'RestaurantsGoodForGroups_True': 1.0,\n",
    " 'RestaurantsGoodForGroups_False': 0.0,\n",
    " 'GoodForKids_True': 1.0,\n",
    " 'GoodForKids_False': 0.0,\n",
    " 'Nightlife': 1.0,\n",
    " 'Bars': 1.0,\n",
    " 'Sandwiches': 0.0,\n",
    " 'American (Traditional)': 0.0,\n",
    " 'American (New)': 0.0,\n",
    " 'Fast Food': 0.0,\n",
    " 'Breakfast & Brunch': 0.0,\n",
    " 'Pizza': 0.0,\n",
    " 'Burgers': 0.0,\n",
    " 'Coffee & Tea': 0.0,\n",
    " 'Mexican': 0.0,\n",
    " 'Cafes': 0.0,\n",
    " 'Seafood': 0.0,\n",
    " 'Italian': 0.0,\n",
    " 'Chicken Wings': 0.0,\n",
    " 'Salad': 0.0,\n",
    " 'Event Planning & Services': 0.0,\n",
    " 'Latin American': 0.0,\n",
    " 'Food Trucks': 0.0,\n",
    " 'Specialty Food': 0.0,\n",
    " 'Chinese': 0.0,\n",
    " 'Delis': 1.0,\n",
    " 'Sushi Bars': 0.0,\n",
    " 'Desserts': 0.0,\n",
    " 'Caterers': 0.0,\n",
    " 'repeat_users': 7.0,\n",
    " 'age': 12.01917808219178,\n",
    " 'reviews_per_week': 0.1715320690389942,\n",
    " 'reactions_per_week': 0.3773705518857873,\n",
    " 'sentiment_score': 0.7482330434782607,\n",
    " 'review_length': 95.23478260869564,\n",
    " 'user_stars': 4.0,\n",
    " 'similar_restaurants_density': 6.0,\n",
    " 'all_restaurants_density': 38.0,\n",
    " 'relative_reviews_count': 0.2163363754441612,\n",
    " 'relative_reviews_per_week': -0.354673205452649,\n",
    " 'relative_stars': 0.6898619704579713,\n",
    " 'relative_user_stars': 0.2666421247997236,\n",
    " 'relative_repeat_users': 0.8125571700297433,\n",
    " 'relative_price': 0.5952291104443191}"
   ]
  },
  {
   "cell_type": "markdown",
   "id": "2ff30731",
   "metadata": {},
   "source": [
    "The first step is to convert the dictionary into a Pandas dataframe, similar to `raw_df`. This can be done by passing a list containing the given dictionary to the `pd.DataFrame` constructor."
   ]
  },
  {
   "cell_type": "code",
   "execution_count": 47,
   "id": "cba99e0d",
   "metadata": {},
   "outputs": [],
   "source": [
    "new_input_df = pd.DataFrame([new_input])"
   ]
  },
  {
   "cell_type": "code",
   "execution_count": 48,
   "id": "acd19baf",
   "metadata": {},
   "outputs": [
    {
     "data": {
      "text/html": [
       "<div>\n",
       "<style scoped>\n",
       "    .dataframe tbody tr th:only-of-type {\n",
       "        vertical-align: middle;\n",
       "    }\n",
       "\n",
       "    .dataframe tbody tr th {\n",
       "        vertical-align: top;\n",
       "    }\n",
       "\n",
       "    .dataframe thead th {\n",
       "        text-align: right;\n",
       "    }\n",
       "</style>\n",
       "<table border=\"1\" class=\"dataframe\">\n",
       "  <thead>\n",
       "    <tr style=\"text-align: right;\">\n",
       "      <th></th>\n",
       "      <th>latitude</th>\n",
       "      <th>longitude</th>\n",
       "      <th>stars</th>\n",
       "      <th>review_count</th>\n",
       "      <th>is_open</th>\n",
       "      <th>is_chain</th>\n",
       "      <th>Num_of_attributes_shared</th>\n",
       "      <th>RestaurantsPriceRange2</th>\n",
       "      <th>RestaurantsTakeOut_True</th>\n",
       "      <th>RestaurantsTakeOut_False</th>\n",
       "      <th>RestaurantsDelivery_True</th>\n",
       "      <th>RestaurantsDelivery_False</th>\n",
       "      <th>OutdoorSeating_True</th>\n",
       "      <th>OutdoorSeating_False</th>\n",
       "      <th>RestaurantsReservations_True</th>\n",
       "      <th>RestaurantsReservations_False</th>\n",
       "      <th>RestaurantsGoodForGroups_True</th>\n",
       "      <th>RestaurantsGoodForGroups_False</th>\n",
       "      <th>GoodForKids_True</th>\n",
       "      <th>GoodForKids_False</th>\n",
       "      <th>Nightlife</th>\n",
       "      <th>Bars</th>\n",
       "      <th>Sandwiches</th>\n",
       "      <th>American (Traditional)</th>\n",
       "      <th>American (New)</th>\n",
       "      <th>Fast Food</th>\n",
       "      <th>Breakfast &amp; Brunch</th>\n",
       "      <th>Pizza</th>\n",
       "      <th>Burgers</th>\n",
       "      <th>Coffee &amp; Tea</th>\n",
       "      <th>Mexican</th>\n",
       "      <th>Cafes</th>\n",
       "      <th>Seafood</th>\n",
       "      <th>Italian</th>\n",
       "      <th>Chicken Wings</th>\n",
       "      <th>Salad</th>\n",
       "      <th>Event Planning &amp; Services</th>\n",
       "      <th>Latin American</th>\n",
       "      <th>Food Trucks</th>\n",
       "      <th>Specialty Food</th>\n",
       "      <th>Chinese</th>\n",
       "      <th>Delis</th>\n",
       "      <th>Sushi Bars</th>\n",
       "      <th>Desserts</th>\n",
       "      <th>Caterers</th>\n",
       "      <th>repeat_users</th>\n",
       "      <th>age</th>\n",
       "      <th>reviews_per_week</th>\n",
       "      <th>reactions_per_week</th>\n",
       "      <th>sentiment_score</th>\n",
       "      <th>review_length</th>\n",
       "      <th>user_stars</th>\n",
       "      <th>similar_restaurants_density</th>\n",
       "      <th>all_restaurants_density</th>\n",
       "      <th>relative_reviews_count</th>\n",
       "      <th>relative_reviews_per_week</th>\n",
       "      <th>relative_stars</th>\n",
       "      <th>relative_user_stars</th>\n",
       "      <th>relative_repeat_users</th>\n",
       "      <th>relative_price</th>\n",
       "    </tr>\n",
       "  </thead>\n",
       "  <tbody>\n",
       "    <tr>\n",
       "      <th>0</th>\n",
       "      <td>28.09236</td>\n",
       "      <td>-82.500588</td>\n",
       "      <td>4.0</td>\n",
       "      <td>108.0</td>\n",
       "      <td>1.0</td>\n",
       "      <td>0.0</td>\n",
       "      <td>22.0</td>\n",
       "      <td>2.0</td>\n",
       "      <td>1.0</td>\n",
       "      <td>0.0</td>\n",
       "      <td>0.0</td>\n",
       "      <td>1.0</td>\n",
       "      <td>1.0</td>\n",
       "      <td>0.0</td>\n",
       "      <td>0.0</td>\n",
       "      <td>1.0</td>\n",
       "      <td>1.0</td>\n",
       "      <td>0.0</td>\n",
       "      <td>1.0</td>\n",
       "      <td>0.0</td>\n",
       "      <td>1.0</td>\n",
       "      <td>1.0</td>\n",
       "      <td>0.0</td>\n",
       "      <td>0.0</td>\n",
       "      <td>0.0</td>\n",
       "      <td>0.0</td>\n",
       "      <td>0.0</td>\n",
       "      <td>0.0</td>\n",
       "      <td>0.0</td>\n",
       "      <td>0.0</td>\n",
       "      <td>0.0</td>\n",
       "      <td>0.0</td>\n",
       "      <td>0.0</td>\n",
       "      <td>0.0</td>\n",
       "      <td>0.0</td>\n",
       "      <td>0.0</td>\n",
       "      <td>0.0</td>\n",
       "      <td>0.0</td>\n",
       "      <td>0.0</td>\n",
       "      <td>0.0</td>\n",
       "      <td>0.0</td>\n",
       "      <td>1.0</td>\n",
       "      <td>0.0</td>\n",
       "      <td>0.0</td>\n",
       "      <td>0.0</td>\n",
       "      <td>7.0</td>\n",
       "      <td>12.019178</td>\n",
       "      <td>0.171532</td>\n",
       "      <td>0.377371</td>\n",
       "      <td>0.748233</td>\n",
       "      <td>95.234783</td>\n",
       "      <td>4.0</td>\n",
       "      <td>6.0</td>\n",
       "      <td>38.0</td>\n",
       "      <td>0.216336</td>\n",
       "      <td>-0.354673</td>\n",
       "      <td>0.689862</td>\n",
       "      <td>0.266642</td>\n",
       "      <td>0.812557</td>\n",
       "      <td>0.595229</td>\n",
       "    </tr>\n",
       "  </tbody>\n",
       "</table>\n",
       "</div>"
      ],
      "text/plain": [
       "   latitude  longitude  stars  review_count  is_open  is_chain  \\\n",
       "0  28.09236 -82.500588    4.0         108.0      1.0       0.0   \n",
       "\n",
       "   Num_of_attributes_shared  RestaurantsPriceRange2  RestaurantsTakeOut_True  \\\n",
       "0                      22.0                     2.0                      1.0   \n",
       "\n",
       "   RestaurantsTakeOut_False  RestaurantsDelivery_True  \\\n",
       "0                       0.0                       0.0   \n",
       "\n",
       "   RestaurantsDelivery_False  OutdoorSeating_True  OutdoorSeating_False  \\\n",
       "0                        1.0                  1.0                   0.0   \n",
       "\n",
       "   RestaurantsReservations_True  RestaurantsReservations_False  \\\n",
       "0                           0.0                            1.0   \n",
       "\n",
       "   RestaurantsGoodForGroups_True  RestaurantsGoodForGroups_False  \\\n",
       "0                            1.0                             0.0   \n",
       "\n",
       "   GoodForKids_True  GoodForKids_False  Nightlife  Bars  Sandwiches  \\\n",
       "0               1.0                0.0        1.0   1.0         0.0   \n",
       "\n",
       "   American (Traditional)  American (New)  Fast Food  Breakfast & Brunch  \\\n",
       "0                     0.0             0.0        0.0                 0.0   \n",
       "\n",
       "   Pizza  Burgers  Coffee & Tea  Mexican  Cafes  Seafood  Italian  \\\n",
       "0    0.0      0.0           0.0      0.0    0.0      0.0      0.0   \n",
       "\n",
       "   Chicken Wings  Salad  Event Planning & Services  Latin American  \\\n",
       "0            0.0    0.0                        0.0             0.0   \n",
       "\n",
       "   Food Trucks  Specialty Food  Chinese  Delis  Sushi Bars  Desserts  \\\n",
       "0          0.0             0.0      0.0    1.0         0.0       0.0   \n",
       "\n",
       "   Caterers  repeat_users        age  reviews_per_week  reactions_per_week  \\\n",
       "0       0.0           7.0  12.019178          0.171532            0.377371   \n",
       "\n",
       "   sentiment_score  review_length  user_stars  similar_restaurants_density  \\\n",
       "0         0.748233      95.234783         4.0                          6.0   \n",
       "\n",
       "   all_restaurants_density  relative_reviews_count  relative_reviews_per_week  \\\n",
       "0                     38.0                0.216336                  -0.354673   \n",
       "\n",
       "   relative_stars  relative_user_stars  relative_repeat_users  relative_price  \n",
       "0        0.689862             0.266642               0.812557        0.595229  "
      ]
     },
     "execution_count": 48,
     "metadata": {},
     "output_type": "execute_result"
    }
   ],
   "source": [
    "new_input_df"
   ]
  },
  {
   "cell_type": "markdown",
   "id": "1cc4fe84",
   "metadata": {},
   "source": [
    "We've now created a Pandas dataframe with the same columns as `df` (except `is_open`, which needs to be predicted). The dataframe contains just one row of data, containing the given input.\n",
    "\n",
    "\n",
    "We must now apply the same transformations applied while training the model:\n",
    "\n",
    "1. Imputation of missing values using the `imputer` created earlier\n",
    "2. Scaling numerical features using the `scaler` created earlier\n",
    "3. Encoding categorical features using the `encoder` created earlier"
   ]
  },
  {
   "cell_type": "code",
   "execution_count": 49,
   "id": "041e0230",
   "metadata": {},
   "outputs": [],
   "source": [
    "new_input_df[numeric_cols] = imputer.transform(new_input_df[numeric_cols])\n",
    "new_input_df[numeric_cols] = scaler.transform(new_input_df[numeric_cols])\n",
    "new_input_df[encoded_cols] = encoder.transform(new_input_df[categorical_cols])"
   ]
  },
  {
   "cell_type": "code",
   "execution_count": 50,
   "id": "e82c3259",
   "metadata": {},
   "outputs": [
    {
     "data": {
      "text/html": [
       "<div>\n",
       "<style scoped>\n",
       "    .dataframe tbody tr th:only-of-type {\n",
       "        vertical-align: middle;\n",
       "    }\n",
       "\n",
       "    .dataframe tbody tr th {\n",
       "        vertical-align: top;\n",
       "    }\n",
       "\n",
       "    .dataframe thead th {\n",
       "        text-align: right;\n",
       "    }\n",
       "</style>\n",
       "<table border=\"1\" class=\"dataframe\">\n",
       "  <thead>\n",
       "    <tr style=\"text-align: right;\">\n",
       "      <th></th>\n",
       "      <th>is_chain</th>\n",
       "      <th>Num_of_attributes_shared</th>\n",
       "      <th>RestaurantsPriceRange2</th>\n",
       "      <th>RestaurantsTakeOut_True</th>\n",
       "      <th>RestaurantsTakeOut_False</th>\n",
       "      <th>RestaurantsDelivery_True</th>\n",
       "      <th>RestaurantsDelivery_False</th>\n",
       "      <th>OutdoorSeating_True</th>\n",
       "      <th>OutdoorSeating_False</th>\n",
       "      <th>RestaurantsReservations_True</th>\n",
       "      <th>RestaurantsReservations_False</th>\n",
       "      <th>RestaurantsGoodForGroups_True</th>\n",
       "      <th>RestaurantsGoodForGroups_False</th>\n",
       "      <th>GoodForKids_True</th>\n",
       "      <th>GoodForKids_False</th>\n",
       "      <th>Nightlife</th>\n",
       "      <th>Bars</th>\n",
       "      <th>Sandwiches</th>\n",
       "      <th>American (Traditional)</th>\n",
       "      <th>American (New)</th>\n",
       "      <th>Fast Food</th>\n",
       "      <th>Breakfast &amp; Brunch</th>\n",
       "      <th>Pizza</th>\n",
       "      <th>Burgers</th>\n",
       "      <th>Coffee &amp; Tea</th>\n",
       "      <th>Mexican</th>\n",
       "      <th>Cafes</th>\n",
       "      <th>Seafood</th>\n",
       "      <th>Italian</th>\n",
       "      <th>Chicken Wings</th>\n",
       "      <th>Salad</th>\n",
       "      <th>Event Planning &amp; Services</th>\n",
       "      <th>Latin American</th>\n",
       "      <th>Food Trucks</th>\n",
       "      <th>Specialty Food</th>\n",
       "      <th>Chinese</th>\n",
       "      <th>Delis</th>\n",
       "      <th>Sushi Bars</th>\n",
       "      <th>Desserts</th>\n",
       "      <th>Caterers</th>\n",
       "      <th>repeat_users</th>\n",
       "      <th>age</th>\n",
       "      <th>reviews_per_week</th>\n",
       "      <th>reactions_per_week</th>\n",
       "      <th>sentiment_score</th>\n",
       "      <th>review_length</th>\n",
       "      <th>user_stars</th>\n",
       "      <th>similar_restaurants_density</th>\n",
       "      <th>all_restaurants_density</th>\n",
       "      <th>relative_reviews_count</th>\n",
       "      <th>relative_reviews_per_week</th>\n",
       "      <th>relative_stars</th>\n",
       "      <th>relative_user_stars</th>\n",
       "      <th>relative_repeat_users</th>\n",
       "    </tr>\n",
       "  </thead>\n",
       "  <tbody>\n",
       "    <tr>\n",
       "      <th>0</th>\n",
       "      <td>0.0</td>\n",
       "      <td>0.677419</td>\n",
       "      <td>0.333333</td>\n",
       "      <td>1.0</td>\n",
       "      <td>0.0</td>\n",
       "      <td>0.0</td>\n",
       "      <td>1.0</td>\n",
       "      <td>1.0</td>\n",
       "      <td>0.0</td>\n",
       "      <td>0.0</td>\n",
       "      <td>1.0</td>\n",
       "      <td>1.0</td>\n",
       "      <td>0.0</td>\n",
       "      <td>1.0</td>\n",
       "      <td>0.0</td>\n",
       "      <td>1.0</td>\n",
       "      <td>1.0</td>\n",
       "      <td>0.0</td>\n",
       "      <td>0.0</td>\n",
       "      <td>0.0</td>\n",
       "      <td>0.0</td>\n",
       "      <td>0.0</td>\n",
       "      <td>0.0</td>\n",
       "      <td>0.0</td>\n",
       "      <td>0.0</td>\n",
       "      <td>0.0</td>\n",
       "      <td>0.0</td>\n",
       "      <td>0.0</td>\n",
       "      <td>0.0</td>\n",
       "      <td>0.0</td>\n",
       "      <td>0.0</td>\n",
       "      <td>0.0</td>\n",
       "      <td>0.0</td>\n",
       "      <td>0.0</td>\n",
       "      <td>0.0</td>\n",
       "      <td>0.0</td>\n",
       "      <td>1.0</td>\n",
       "      <td>0.0</td>\n",
       "      <td>0.0</td>\n",
       "      <td>0.0</td>\n",
       "      <td>0.055118</td>\n",
       "      <td>0.782478</td>\n",
       "      <td>0.019749</td>\n",
       "      <td>0.008268</td>\n",
       "      <td>0.868103</td>\n",
       "      <td>0.233893</td>\n",
       "      <td>0.75</td>\n",
       "      <td>0.092308</td>\n",
       "      <td>0.148148</td>\n",
       "      <td>0.167623</td>\n",
       "      <td>0.154779</td>\n",
       "      <td>0.700973</td>\n",
       "      <td>0.693891</td>\n",
       "      <td>0.261498</td>\n",
       "    </tr>\n",
       "  </tbody>\n",
       "</table>\n",
       "</div>"
      ],
      "text/plain": [
       "   is_chain  Num_of_attributes_shared  RestaurantsPriceRange2  \\\n",
       "0       0.0                  0.677419                0.333333   \n",
       "\n",
       "   RestaurantsTakeOut_True  RestaurantsTakeOut_False  \\\n",
       "0                      1.0                       0.0   \n",
       "\n",
       "   RestaurantsDelivery_True  RestaurantsDelivery_False  OutdoorSeating_True  \\\n",
       "0                       0.0                        1.0                  1.0   \n",
       "\n",
       "   OutdoorSeating_False  RestaurantsReservations_True  \\\n",
       "0                   0.0                           0.0   \n",
       "\n",
       "   RestaurantsReservations_False  RestaurantsGoodForGroups_True  \\\n",
       "0                            1.0                            1.0   \n",
       "\n",
       "   RestaurantsGoodForGroups_False  GoodForKids_True  GoodForKids_False  \\\n",
       "0                             0.0               1.0                0.0   \n",
       "\n",
       "   Nightlife  Bars  Sandwiches  American (Traditional)  American (New)  \\\n",
       "0        1.0   1.0         0.0                     0.0             0.0   \n",
       "\n",
       "   Fast Food  Breakfast & Brunch  Pizza  Burgers  Coffee & Tea  Mexican  \\\n",
       "0        0.0                 0.0    0.0      0.0           0.0      0.0   \n",
       "\n",
       "   Cafes  Seafood  Italian  Chicken Wings  Salad  Event Planning & Services  \\\n",
       "0    0.0      0.0      0.0            0.0    0.0                        0.0   \n",
       "\n",
       "   Latin American  Food Trucks  Specialty Food  Chinese  Delis  Sushi Bars  \\\n",
       "0             0.0          0.0             0.0      0.0    1.0         0.0   \n",
       "\n",
       "   Desserts  Caterers  repeat_users       age  reviews_per_week  \\\n",
       "0       0.0       0.0      0.055118  0.782478          0.019749   \n",
       "\n",
       "   reactions_per_week  sentiment_score  review_length  user_stars  \\\n",
       "0            0.008268         0.868103       0.233893        0.75   \n",
       "\n",
       "   similar_restaurants_density  all_restaurants_density  \\\n",
       "0                     0.092308                 0.148148   \n",
       "\n",
       "   relative_reviews_count  relative_reviews_per_week  relative_stars  \\\n",
       "0                0.167623                   0.154779        0.700973   \n",
       "\n",
       "   relative_user_stars  relative_repeat_users  \n",
       "0             0.693891               0.261498  "
      ]
     },
     "execution_count": 50,
     "metadata": {},
     "output_type": "execute_result"
    }
   ],
   "source": [
    "X_new_input = new_input_df[numeric_cols + encoded_cols]\n",
    "X_new_input"
   ]
  },
  {
   "cell_type": "markdown",
   "id": "97901445",
   "metadata": {},
   "source": [
    "We can now make a prediction using `model.predict`."
   ]
  },
  {
   "cell_type": "code",
   "execution_count": 51,
   "id": "c8b40175",
   "metadata": {},
   "outputs": [],
   "source": [
    "prediction = model.predict(X_new_input)[0]"
   ]
  },
  {
   "cell_type": "code",
   "execution_count": 52,
   "id": "3587c7be",
   "metadata": {},
   "outputs": [
    {
     "data": {
      "text/plain": [
       "1"
      ]
     },
     "execution_count": 52,
     "metadata": {},
     "output_type": "execute_result"
    }
   ],
   "source": [
    "prediction"
   ]
  },
  {
   "cell_type": "markdown",
   "id": "712fea12",
   "metadata": {},
   "source": [
    "Our model predicts that this restaurant will be open. We can check the probability of the prediction."
   ]
  },
  {
   "cell_type": "code",
   "execution_count": 53,
   "id": "749b0e09",
   "metadata": {},
   "outputs": [],
   "source": [
    "prob = model.predict_proba(X_new_input)[0]"
   ]
  },
  {
   "cell_type": "code",
   "execution_count": 54,
   "id": "df116c5a",
   "metadata": {},
   "outputs": [
    {
     "data": {
      "text/plain": [
       "array([0.23441451, 0.76558549])"
      ]
     },
     "execution_count": 54,
     "metadata": {},
     "output_type": "execute_result"
    }
   ],
   "source": [
    "prob"
   ]
  },
  {
   "cell_type": "markdown",
   "id": "a25027ca",
   "metadata": {},
   "source": [
    "The model predicts that the restaurant will be open with a probability of 71.5%"
   ]
  },
  {
   "cell_type": "markdown",
   "id": "011a891e",
   "metadata": {},
   "source": [
    "Let's define a helper function to make predictions for individual inputs."
   ]
  },
  {
   "cell_type": "code",
   "execution_count": 55,
   "id": "2d9dadb3",
   "metadata": {},
   "outputs": [],
   "source": [
    "def predict_input(single_input):\n",
    "    input_df = pd.DataFrame([single_input])\n",
    "    input_df[numeric_cols] = imputer.transform(input_df[numeric_cols])\n",
    "    input_df[numeric_cols] = scaler.transform(input_df[numeric_cols])\n",
    "    input_df[encoded_cols] = encoder.transform(input_df[categorical_cols])\n",
    "    X_input = input_df[numeric_cols + encoded_cols]\n",
    "    pred = model.predict(X_input)[0]\n",
    "    prob = model.predict_proba(X_input)[0][list(model.classes_).index(pred)]\n",
    "    return pred, prob"
   ]
  },
  {
   "cell_type": "markdown",
   "id": "fce5dc75",
   "metadata": {},
   "source": [
    "## Saving and Loading Trained Models\n",
    "\n",
    "We can save the parameters (weights and biases) of our trained model to disk, so that we needn't retrain the model from scratch each time we wish to use it. Along with the model, it's also important to save imputers, scalers, encoders and even column names. Anything that will be required while generating predictions using the model should be saved.\n",
    "\n",
    "We can use the `joblib` module to save and load Python objects on the disk. "
   ]
  },
  {
   "cell_type": "markdown",
   "id": "5aa11a52",
   "metadata": {},
   "source": [
    "Let's first create a dictionary containing all the required objects."
   ]
  },
  {
   "cell_type": "code",
   "execution_count": 56,
   "id": "15d409d1",
   "metadata": {},
   "outputs": [],
   "source": [
    "Tampa_restaurants = {\n",
    "    'model': model,\n",
    "    'imputer': imputer,\n",
    "    'scaler': scaler,\n",
    "    'encoder': encoder,\n",
    "    'input_cols': input_cols,\n",
    "    'target_col': target_col,\n",
    "    'numeric_cols': numeric_cols,\n",
    "    'categorical_cols': categorical_cols,\n",
    "    'encoded_cols': encoded_cols\n",
    "}"
   ]
  },
  {
   "cell_type": "markdown",
   "id": "1f0b6ff2",
   "metadata": {},
   "source": [
    "We can now save this to a file using `joblib.dump`"
   ]
  },
  {
   "cell_type": "code",
   "execution_count": 57,
   "id": "7b0bd2cb",
   "metadata": {},
   "outputs": [
    {
     "data": {
      "text/plain": [
       "['Tampa_restaurants.joblib']"
      ]
     },
     "execution_count": 57,
     "metadata": {},
     "output_type": "execute_result"
    }
   ],
   "source": [
    "joblib.dump(Tampa_restaurants, 'Tampa_restaurants.joblib')"
   ]
  }
 ],
 "metadata": {
  "kernelspec": {
   "display_name": "Python 3 (ipykernel)",
   "language": "python",
   "name": "python3"
  },
  "language_info": {
   "codemirror_mode": {
    "name": "ipython",
    "version": 3
   },
   "file_extension": ".py",
   "mimetype": "text/x-python",
   "name": "python",
   "nbconvert_exporter": "python",
   "pygments_lexer": "ipython3",
   "version": "3.9.7"
  }
 },
 "nbformat": 4,
 "nbformat_minor": 5
}
